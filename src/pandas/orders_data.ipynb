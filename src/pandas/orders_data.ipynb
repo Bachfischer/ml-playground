{
 "cells": [
  {
   "cell_type": "code",
   "execution_count": 1,
   "metadata": {
    "collapsed": true
   },
   "outputs": [],
   "source": [
    "import pandas as pd\n",
    "\n",
    "orders_data = pd.DataFrame({\n",
    "'ord_no':[70001,70009,70002,70004,70007,70005,70008,70010,70003,70012,70011,70013],\n",
    "'purch_amt':[150.5,270.65,65.26,110.5,948.5,2400.6,5760,1983.43,2480.4,250.45, 75.29,3045.6],\n",
    "'ord_date': ['2012-10-05','2012-09-10','2012-10-05','2012-08-17','2012-09-10','2012-07-27','2012-09-10','2012-10-10','2012-10-10','2012-06-27','2012-08-17','2012-04-25'],\n",
    "'customer_id':[3005,3001,3002,3009,3005,3007,3002,3004,3009,3008,3003,3002],\n",
    "'salesman_id': [5002,5005,5001,5003,5002,5001,5001,5006,5003,5002,5007,5001]})"
   ]
  },
  {
   "cell_type": "markdown",
   "source": [
    "https://www.w3resource.com/python-exercises/pandas/groupby/index.php\n",
    "\n",
    "Write a Pandas program to split a dataset, group by one column and get mean, min, and max values by group. Using the following dataset find the mean, min, and max values of purchase amount (purch_amt) group by customer id (customer_id)."
   ],
   "metadata": {
    "collapsed": false,
    "pycharm": {
     "name": "#%% md\n"
    }
   }
  },
  {
   "cell_type": "code",
   "source": [
    "grouped_orders_data_by_customer = orders_data.groupby(by = ['customer_id'])\n",
    "purchase_amt = {}\n",
    "purchase_amt['mean'] = grouped_orders_data_by_customer['purch_amt'].mean()\n",
    "purchase_amt['min'] = grouped_orders_data_by_customer['purch_amt'].min()\n",
    "purchase_amt['max'] = grouped_orders_data_by_customer['purch_amt'].max()\n",
    "\n",
    "print(purchase_amt)"
   ],
   "metadata": {
    "collapsed": false,
    "pycharm": {
     "name": "#%%\n"
    }
   },
   "execution_count": 4,
   "outputs": [
    {
     "name": "stdout",
     "output_type": "stream",
     "text": [
      "{'mean': customer_id\n",
      "3001     270.650000\n",
      "3002    2956.953333\n",
      "3003      75.290000\n",
      "3004    1983.430000\n",
      "3005     549.500000\n",
      "3007    2400.600000\n",
      "3008     250.450000\n",
      "3009    1295.450000\n",
      "Name: purch_amt, dtype: float64, 'min': customer_id\n",
      "3001     270.65\n",
      "3002      65.26\n",
      "3003      75.29\n",
      "3004    1983.43\n",
      "3005     150.50\n",
      "3007    2400.60\n",
      "3008     250.45\n",
      "3009     110.50\n",
      "Name: purch_amt, dtype: float64, 'max': customer_id\n",
      "3001     270.65\n",
      "3002    5760.00\n",
      "3003      75.29\n",
      "3004    1983.43\n",
      "3005     948.50\n",
      "3007    2400.60\n",
      "3008     250.45\n",
      "3009    2480.40\n",
      "Name: purch_amt, dtype: float64}\n"
     ]
    }
   ]
  },
  {
   "cell_type": "markdown",
   "source": [
    "Write a Pandas program to split the following dataset using group by on 'salesman_id' and find the first order date for each group."
   ],
   "metadata": {
    "collapsed": false,
    "pycharm": {
     "name": "#%% md\n"
    }
   }
  },
  {
   "cell_type": "code",
   "execution_count": 6,
   "outputs": [
    {
     "data": {
      "text/plain": "salesman_id\n5002    2012-06-27\n5005    2012-09-10\n5001    2012-04-25\n5003    2012-08-17\n5006    2012-10-10\n5007    2012-08-17\nName: ord_date, dtype: object"
     },
     "execution_count": 6,
     "metadata": {},
     "output_type": "execute_result"
    }
   ],
   "source": [
    "grouped_orders_data_by_salesman = orders_data.groupby(by = ['salesman_id'], sort = False)\n",
    "grouped_orders_data_by_salesman['ord_date'].min()"
   ],
   "metadata": {
    "collapsed": false,
    "pycharm": {
     "name": "#%%\n"
    }
   }
  },
  {
   "cell_type": "code",
   "execution_count": null,
   "outputs": [],
   "source": [],
   "metadata": {
    "collapsed": false,
    "pycharm": {
     "name": "#%%\n"
    }
   }
  }
 ],
 "metadata": {
  "kernelspec": {
   "name": "pycharm-e3cb647c",
   "language": "python",
   "display_name": "PyCharm (ml-playground)"
  },
  "language_info": {
   "codemirror_mode": {
    "name": "ipython",
    "version": 2
   },
   "file_extension": ".py",
   "mimetype": "text/x-python",
   "name": "python",
   "nbconvert_exporter": "python",
   "pygments_lexer": "ipython2",
   "version": "2.7.6"
  }
 },
 "nbformat": 4,
 "nbformat_minor": 0
}