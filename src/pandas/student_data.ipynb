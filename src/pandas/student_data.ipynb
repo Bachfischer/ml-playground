{
 "cells": [
  {
   "cell_type": "code",
   "execution_count": 1,
   "metadata": {
    "collapsed": true
   },
   "outputs": [],
   "source": [
    "import pandas as pd\n",
    "student_data = pd.DataFrame({\n",
    "    'school_code': ['s001','s002','s003','s001','s002','s004'],\n",
    "    'class': ['V', 'V', 'VI', 'VI', 'V', 'VI'],\n",
    "    'name': ['Alberto Franco','Gino Mcneill','Ryan Parkes', 'Eesha Hinton', 'Gino Mcneill', 'David Parkes'],\n",
    "    'date_Of_Birth ': ['15/05/2002','17/05/2002','16/02/1999','25/09/1998','11/05/2002','15/09/1997'],\n",
    "    'age': [12, 12, 13, 13, 14, 12],\n",
    "    'height': [173, 192, 186, 167, 151, 159],\n",
    "    'weight': [35, 32, 33, 30, 31, 32],\n",
    "    'address': ['street1', 'street2', 'street3', 'street1', 'street2', 'street4']},\n",
    "    index=['S1', 'S2', 'S3', 'S4', 'S5', 'S6'])"
   ]
  },
  {
   "cell_type": "markdown",
   "source": [
    "https://www.w3resource.com/python-exercises/pandas/groupby/index.php\n",
    "\n",
    "Write a Pandas program to split the following dataframe into groups based on school code. Also check the type of GroupBy object."
   ],
   "metadata": {
    "collapsed": false
   }
  },
  {
   "cell_type": "code",
   "execution_count": 11,
   "outputs": [
    {
     "data": {
      "text/plain": "   school_code class            name date_Of_Birth   age  height  weight  \\\nS1        s001     V  Alberto Franco     15/05/2002   12     173      35   \nS2        s002     V    Gino Mcneill     17/05/2002   12     192      32   \nS3        s003    VI     Ryan Parkes     16/02/1999   13     186      33   \nS4        s001    VI    Eesha Hinton     25/09/1998   13     167      30   \nS5        s002     V    Gino Mcneill     11/05/2002   14     151      31   \nS6        s004    VI    David Parkes     15/09/1997   12     159      32   \n\n    address  \nS1  street1  \nS2  street2  \nS3  street3  \nS4  street1  \nS5  street2  \nS6  street4  ",
      "text/html": "<div>\n<style scoped>\n    .dataframe tbody tr th:only-of-type {\n        vertical-align: middle;\n    }\n\n    .dataframe tbody tr th {\n        vertical-align: top;\n    }\n\n    .dataframe thead th {\n        text-align: right;\n    }\n</style>\n<table border=\"1\" class=\"dataframe\">\n  <thead>\n    <tr style=\"text-align: right;\">\n      <th></th>\n      <th>school_code</th>\n      <th>class</th>\n      <th>name</th>\n      <th>date_Of_Birth</th>\n      <th>age</th>\n      <th>height</th>\n      <th>weight</th>\n      <th>address</th>\n    </tr>\n  </thead>\n  <tbody>\n    <tr>\n      <th>S1</th>\n      <td>s001</td>\n      <td>V</td>\n      <td>Alberto Franco</td>\n      <td>15/05/2002</td>\n      <td>12</td>\n      <td>173</td>\n      <td>35</td>\n      <td>street1</td>\n    </tr>\n    <tr>\n      <th>S2</th>\n      <td>s002</td>\n      <td>V</td>\n      <td>Gino Mcneill</td>\n      <td>17/05/2002</td>\n      <td>12</td>\n      <td>192</td>\n      <td>32</td>\n      <td>street2</td>\n    </tr>\n    <tr>\n      <th>S3</th>\n      <td>s003</td>\n      <td>VI</td>\n      <td>Ryan Parkes</td>\n      <td>16/02/1999</td>\n      <td>13</td>\n      <td>186</td>\n      <td>33</td>\n      <td>street3</td>\n    </tr>\n    <tr>\n      <th>S4</th>\n      <td>s001</td>\n      <td>VI</td>\n      <td>Eesha Hinton</td>\n      <td>25/09/1998</td>\n      <td>13</td>\n      <td>167</td>\n      <td>30</td>\n      <td>street1</td>\n    </tr>\n    <tr>\n      <th>S5</th>\n      <td>s002</td>\n      <td>V</td>\n      <td>Gino Mcneill</td>\n      <td>11/05/2002</td>\n      <td>14</td>\n      <td>151</td>\n      <td>31</td>\n      <td>street2</td>\n    </tr>\n    <tr>\n      <th>S6</th>\n      <td>s004</td>\n      <td>VI</td>\n      <td>David Parkes</td>\n      <td>15/09/1997</td>\n      <td>12</td>\n      <td>159</td>\n      <td>32</td>\n      <td>street4</td>\n    </tr>\n  </tbody>\n</table>\n</div>"
     },
     "execution_count": 11,
     "metadata": {},
     "output_type": "execute_result"
    }
   ],
   "source": [
    "student_data_grouped_by_school = student_data.groupby(by = ['school_code'])\n",
    "student_data_grouped_by_school.head()"
   ],
   "metadata": {
    "collapsed": false,
    "pycharm": {
     "name": "#%%\n"
    }
   }
  },
  {
   "cell_type": "code",
   "execution_count": 13,
   "outputs": [
    {
     "name": "stdout",
     "output_type": "stream",
     "text": [
      "s001,    school_code class            name date_Of_Birth   age  height  weight  \\\n",
      "S1        s001     V  Alberto Franco     15/05/2002   12     173      35   \n",
      "S4        s001    VI    Eesha Hinton     25/09/1998   13     167      30   \n",
      "\n",
      "    address  \n",
      "S1  street1  \n",
      "S4  street1  \n",
      "s002,    school_code class          name date_Of_Birth   age  height  weight  \\\n",
      "S2        s002     V  Gino Mcneill     17/05/2002   12     192      32   \n",
      "S5        s002     V  Gino Mcneill     11/05/2002   14     151      31   \n",
      "\n",
      "    address  \n",
      "S2  street2  \n",
      "S5  street2  \n",
      "s003,    school_code class         name date_Of_Birth   age  height  weight  address\n",
      "S3        s003    VI  Ryan Parkes     16/02/1999   13     186      33  street3\n",
      "s004,    school_code class          name date_Of_Birth   age  height  weight  \\\n",
      "S6        s004    VI  David Parkes     15/09/1997   12     159      32   \n",
      "\n",
      "    address  \n",
      "S6  street4  \n"
     ]
    }
   ],
   "source": [
    "for group, name in student_data_grouped_by_school:\n",
    "    print(\"%s, %s\"%(group, name))"
   ],
   "metadata": {
    "collapsed": false,
    "pycharm": {
     "name": "#%%\n"
    }
   }
  },
  {
   "cell_type": "code",
   "execution_count": null,
   "outputs": [],
   "source": [
    "type(student_data_grouped_by_school)#%%"
   ],
   "metadata": {
    "collapsed": false,
    "pycharm": {
     "name": "#%%\n"
    }
   }
  },
  {
   "cell_type": "markdown",
   "source": [
    "Write a Pandas program to split the following dataframe by school code and get mean, min, and max value of age for each school"
   ],
   "metadata": {
    "collapsed": false,
    "pycharm": {
     "name": "#%% md\n"
    }
   }
  },
  {
   "cell_type": "code",
   "source": [
    "age = {}\n",
    "age['mean'] = student_data_grouped_by_school['age'].mean()\n",
    "age['min'] = student_data_grouped_by_school['age'].min()\n",
    "age['max'] = student_data_grouped_by_school['age'].max()\n",
    "print(age)"
   ],
   "metadata": {
    "collapsed": false,
    "pycharm": {
     "name": "#%%\n"
    }
   },
   "execution_count": 18,
   "outputs": [
    {
     "name": "stdout",
     "output_type": "stream",
     "text": [
      "{'mean': school_code\n",
      "s001    12.5\n",
      "s002    13.0\n",
      "s003    13.0\n",
      "s004    12.0\n",
      "Name: age, dtype: float64, 'min': school_code\n",
      "s001    12\n",
      "s002    12\n",
      "s003    13\n",
      "s004    12\n",
      "Name: age, dtype: int64, 'max': school_code\n",
      "s001    13\n",
      "s002    14\n",
      "s003    13\n",
      "s004    12\n",
      "Name: age, dtype: int64}\n"
     ]
    }
   ]
  },
  {
   "cell_type": "code",
   "execution_count": null,
   "outputs": [],
   "source": [],
   "metadata": {
    "collapsed": false,
    "pycharm": {
     "name": "#%%\n"
    }
   }
  }
 ],
 "metadata": {
  "kernelspec": {
   "name": "pycharm-e3cb647c",
   "language": "python",
   "display_name": "PyCharm (ml-playground)"
  },
  "language_info": {
   "codemirror_mode": {
    "name": "ipython",
    "version": 2
   },
   "file_extension": ".py",
   "mimetype": "text/x-python",
   "name": "python",
   "nbconvert_exporter": "python",
   "pygments_lexer": "ipython2",
   "version": "2.7.6"
  }
 },
 "nbformat": 4,
 "nbformat_minor": 0
}