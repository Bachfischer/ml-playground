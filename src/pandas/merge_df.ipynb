{
 "cells": [
  {
   "cell_type": "code",
   "execution_count": 1,
   "metadata": {
    "collapsed": true
   },
   "outputs": [
    {
     "data": {
      "text/plain": "               name  age favorite_color  test_one\n0    Willard Morris   20           blue        88\n1       Al Jennings   19           blue        92\n2      Omar Mullins   22         yellow        95\n3  Spencer McDaniel   21          green        70",
      "text/html": "<div>\n<style scoped>\n    .dataframe tbody tr th:only-of-type {\n        vertical-align: middle;\n    }\n\n    .dataframe tbody tr th {\n        vertical-align: top;\n    }\n\n    .dataframe thead th {\n        text-align: right;\n    }\n</style>\n<table border=\"1\" class=\"dataframe\">\n  <thead>\n    <tr style=\"text-align: right;\">\n      <th></th>\n      <th>name</th>\n      <th>age</th>\n      <th>favorite_color</th>\n      <th>test_one</th>\n    </tr>\n  </thead>\n  <tbody>\n    <tr>\n      <th>0</th>\n      <td>Willard Morris</td>\n      <td>20</td>\n      <td>blue</td>\n      <td>88</td>\n    </tr>\n    <tr>\n      <th>1</th>\n      <td>Al Jennings</td>\n      <td>19</td>\n      <td>blue</td>\n      <td>92</td>\n    </tr>\n    <tr>\n      <th>2</th>\n      <td>Omar Mullins</td>\n      <td>22</td>\n      <td>yellow</td>\n      <td>95</td>\n    </tr>\n    <tr>\n      <th>3</th>\n      <td>Spencer McDaniel</td>\n      <td>21</td>\n      <td>green</td>\n      <td>70</td>\n    </tr>\n  </tbody>\n</table>\n</div>"
     },
     "execution_count": 1,
     "metadata": {},
     "output_type": "execute_result"
    }
   ],
   "source": [
    "import pandas as pd\n",
    "raw_data1 = {'name': ['Willard Morris', 'Al Jennings', 'Omar Mullins', 'Spencer McDaniel'],\n",
    "'age': [20, 19, 22, 21],\n",
    "'favorite_color': ['blue', 'blue', 'yellow', \"green\"],\n",
    "'test_one': [88, 92, 95, 70]}\n",
    "df1 = pd.DataFrame(raw_data1)\n",
    "df1"
   ]
  },
  {
   "cell_type": "code",
   "execution_count": 2,
   "outputs": [
    {
     "data": {
      "text/plain": "               name  test_two  test_three\n0    Willard Morris        87          78\n1       Al Jennings        94         100\n2      Omar Mullins        97          90\n3  Spencer McDaniel        72          85",
      "text/html": "<div>\n<style scoped>\n    .dataframe tbody tr th:only-of-type {\n        vertical-align: middle;\n    }\n\n    .dataframe tbody tr th {\n        vertical-align: top;\n    }\n\n    .dataframe thead th {\n        text-align: right;\n    }\n</style>\n<table border=\"1\" class=\"dataframe\">\n  <thead>\n    <tr style=\"text-align: right;\">\n      <th></th>\n      <th>name</th>\n      <th>test_two</th>\n      <th>test_three</th>\n    </tr>\n  </thead>\n  <tbody>\n    <tr>\n      <th>0</th>\n      <td>Willard Morris</td>\n      <td>87</td>\n      <td>78</td>\n    </tr>\n    <tr>\n      <th>1</th>\n      <td>Al Jennings</td>\n      <td>94</td>\n      <td>100</td>\n    </tr>\n    <tr>\n      <th>2</th>\n      <td>Omar Mullins</td>\n      <td>97</td>\n      <td>90</td>\n    </tr>\n    <tr>\n      <th>3</th>\n      <td>Spencer McDaniel</td>\n      <td>72</td>\n      <td>85</td>\n    </tr>\n  </tbody>\n</table>\n</div>"
     },
     "execution_count": 2,
     "metadata": {},
     "output_type": "execute_result"
    }
   ],
   "source": [
    "raw_data2 = {'name': ['Willard Morris', 'Al Jennings', 'Omar Mullins', 'Spencer McDaniel'],\n",
    "'test_two': [87, 94, 97, 72],\n",
    "'test_three': [78, 100, 90, 85]}\n",
    "df2 = pd.DataFrame(raw_data2)\n",
    "df2"
   ],
   "metadata": {
    "collapsed": false,
    "pycharm": {
     "name": "#%%\n"
    }
   }
  },
  {
   "cell_type": "code",
   "execution_count": 3,
   "outputs": [],
   "source": [
    "result_df = df1.merge(df2, how = 'inner')"
   ],
   "metadata": {
    "collapsed": false,
    "pycharm": {
     "name": "#%%\n"
    }
   }
  },
  {
   "cell_type": "code",
   "execution_count": 4,
   "outputs": [
    {
     "data": {
      "text/plain": "               name  age favorite_color  test_one  test_two  test_three\n0    Willard Morris   20           blue        88        87          78\n1       Al Jennings   19           blue        92        94         100\n2      Omar Mullins   22         yellow        95        97          90\n3  Spencer McDaniel   21          green        70        72          85",
      "text/html": "<div>\n<style scoped>\n    .dataframe tbody tr th:only-of-type {\n        vertical-align: middle;\n    }\n\n    .dataframe tbody tr th {\n        vertical-align: top;\n    }\n\n    .dataframe thead th {\n        text-align: right;\n    }\n</style>\n<table border=\"1\" class=\"dataframe\">\n  <thead>\n    <tr style=\"text-align: right;\">\n      <th></th>\n      <th>name</th>\n      <th>age</th>\n      <th>favorite_color</th>\n      <th>test_one</th>\n      <th>test_two</th>\n      <th>test_three</th>\n    </tr>\n  </thead>\n  <tbody>\n    <tr>\n      <th>0</th>\n      <td>Willard Morris</td>\n      <td>20</td>\n      <td>blue</td>\n      <td>88</td>\n      <td>87</td>\n      <td>78</td>\n    </tr>\n    <tr>\n      <th>1</th>\n      <td>Al Jennings</td>\n      <td>19</td>\n      <td>blue</td>\n      <td>92</td>\n      <td>94</td>\n      <td>100</td>\n    </tr>\n    <tr>\n      <th>2</th>\n      <td>Omar Mullins</td>\n      <td>22</td>\n      <td>yellow</td>\n      <td>95</td>\n      <td>97</td>\n      <td>90</td>\n    </tr>\n    <tr>\n      <th>3</th>\n      <td>Spencer McDaniel</td>\n      <td>21</td>\n      <td>green</td>\n      <td>70</td>\n      <td>72</td>\n      <td>85</td>\n    </tr>\n  </tbody>\n</table>\n</div>"
     },
     "execution_count": 4,
     "metadata": {},
     "output_type": "execute_result"
    }
   ],
   "source": [
    "result_df\n"
   ],
   "metadata": {
    "collapsed": false,
    "pycharm": {
     "name": "#%%\n"
    }
   }
  },
  {
   "cell_type": "code",
   "execution_count": 5,
   "outputs": [],
   "source": [
    "result_df['sum'] = result_df['test_one'] + result_df['test_two'] + result_df['test_three']"
   ],
   "metadata": {
    "collapsed": false,
    "pycharm": {
     "name": "#%%\n"
    }
   }
  },
  {
   "cell_type": "code",
   "execution_count": 6,
   "outputs": [],
   "source": [
    "result_df = result_df.sort_values(by = ['sum'], ascending=False)"
   ],
   "metadata": {
    "collapsed": false,
    "pycharm": {
     "name": "#%%\n"
    }
   }
  },
  {
   "cell_type": "code",
   "execution_count": 11,
   "outputs": [
    {
     "data": {
      "text/plain": "name              Al Jennings\nage                        19\nfavorite_color           blue\ntest_one                   92\ntest_two                   94\ntest_three                100\nsum                       286\nName: 1, dtype: object"
     },
     "execution_count": 11,
     "metadata": {},
     "output_type": "execute_result"
    }
   ],
   "source": [
    "result_df.iloc[0, :]"
   ],
   "metadata": {
    "collapsed": false,
    "pycharm": {
     "name": "#%%\n"
    }
   }
  },
  {
   "cell_type": "code",
   "execution_count": null,
   "outputs": [],
   "source": [],
   "metadata": {
    "collapsed": false,
    "pycharm": {
     "name": "#%%\n"
    }
   }
  }
 ],
 "metadata": {
  "kernelspec": {
   "name": "pycharm-e3cb647c",
   "language": "python",
   "display_name": "PyCharm (ml-playground)"
  },
  "language_info": {
   "codemirror_mode": {
    "name": "ipython",
    "version": 2
   },
   "file_extension": ".py",
   "mimetype": "text/x-python",
   "name": "python",
   "nbconvert_exporter": "python",
   "pygments_lexer": "ipython2",
   "version": "2.7.6"
  }
 },
 "nbformat": 4,
 "nbformat_minor": 0
}