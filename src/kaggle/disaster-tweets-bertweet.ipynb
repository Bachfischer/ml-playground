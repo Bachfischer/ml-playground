{
 "cells": [
  {
   "cell_type": "markdown",
   "id": "authentic-monroe",
   "metadata": {
    "papermill": {
     "duration": 0.01661,
     "end_time": "2021-05-12T08:42:59.570670",
     "exception": false,
     "start_time": "2021-05-12T08:42:59.554060",
     "status": "completed"
    },
    "tags": []
   },
   "source": [
    "Install `transformers`"
   ]
  },
  {
   "cell_type": "code",
   "execution_count": 1,
   "id": "loaded-waste",
   "metadata": {
    "_cell_guid": "b1076dfc-b9ad-4769-8c92-a6c4dae69d19",
    "_uuid": "8f2839f25d086af736a60e9eeb907d3b93b6e0e5",
    "execution": {
     "iopub.execute_input": "2021-05-12T08:42:59.614752Z",
     "iopub.status.busy": "2021-05-12T08:42:59.614197Z",
     "iopub.status.idle": "2021-05-12T08:43:27.688078Z",
     "shell.execute_reply": "2021-05-12T08:43:27.687505Z"
    },
    "papermill": {
     "duration": 28.101889,
     "end_time": "2021-05-12T08:43:27.688242",
     "exception": false,
     "start_time": "2021-05-12T08:42:59.586353",
     "status": "completed"
    },
    "tags": []
   },
   "outputs": [
    {
     "name": "stdout",
     "output_type": "stream",
     "text": [
      "Cloning into 'transformers'...\r\n",
      "remote: Enumerating objects: 72361, done.\u001b[K\r\n",
      "remote: Counting objects: 100% (406/406), done.\u001b[K\r\n",
      "remote: Compressing objects: 100% (284/284), done.\u001b[K\r\n",
      "remote: Total 72361 (delta 185), reused 219 (delta 99), pack-reused 71955\u001b[K\r\n",
      "Receiving objects: 100% (72361/72361), 55.22 MiB | 27.84 MiB/s, done.\r\n",
      "Resolving deltas: 100% (51316/51316), done.\r\n",
      "Processing ./transformers\r\n",
      "  Installing build dependencies ... \u001b[?25l-\b \b\\\b \b|\b \b/\b \b-\b \bdone\r\n",
      "\u001b[?25h  Getting requirements to build wheel ... \u001b[?25l-\b \bdone\r\n",
      "\u001b[?25h    Preparing wheel metadata ... \u001b[?25l-\b \b\\\b \bdone\r\n",
      "\u001b[?25hRequirement already satisfied: packaging in /opt/conda/lib/python3.7/site-packages (from transformers==4.6.0.dev0) (20.9)\r\n",
      "Requirement already satisfied: tokenizers<0.11,>=0.10.1 in /opt/conda/lib/python3.7/site-packages (from transformers==4.6.0.dev0) (0.10.2)\r\n",
      "Requirement already satisfied: filelock in /opt/conda/lib/python3.7/site-packages (from transformers==4.6.0.dev0) (3.0.12)\r\n",
      "Requirement already satisfied: sacremoses in /opt/conda/lib/python3.7/site-packages (from transformers==4.6.0.dev0) (0.0.45)\r\n",
      "Collecting huggingface-hub==0.0.8\r\n",
      "  Downloading huggingface_hub-0.0.8-py3-none-any.whl (34 kB)\r\n",
      "Requirement already satisfied: regex!=2019.12.17 in /opt/conda/lib/python3.7/site-packages (from transformers==4.6.0.dev0) (2021.3.17)\r\n",
      "Requirement already satisfied: tqdm>=4.27 in /opt/conda/lib/python3.7/site-packages (from transformers==4.6.0.dev0) (4.59.0)\r\n",
      "Requirement already satisfied: numpy>=1.17 in /opt/conda/lib/python3.7/site-packages (from transformers==4.6.0.dev0) (1.19.5)\r\n",
      "Requirement already satisfied: importlib-metadata in /opt/conda/lib/python3.7/site-packages (from transformers==4.6.0.dev0) (3.4.0)\r\n",
      "Requirement already satisfied: requests in /opt/conda/lib/python3.7/site-packages (from transformers==4.6.0.dev0) (2.25.1)\r\n",
      "Requirement already satisfied: typing-extensions>=3.6.4 in /opt/conda/lib/python3.7/site-packages (from importlib-metadata->transformers==4.6.0.dev0) (3.7.4.3)\r\n",
      "Requirement already satisfied: zipp>=0.5 in /opt/conda/lib/python3.7/site-packages (from importlib-metadata->transformers==4.6.0.dev0) (3.4.1)\r\n",
      "Requirement already satisfied: pyparsing>=2.0.2 in /opt/conda/lib/python3.7/site-packages (from packaging->transformers==4.6.0.dev0) (2.4.7)\r\n",
      "Requirement already satisfied: chardet<5,>=3.0.2 in /opt/conda/lib/python3.7/site-packages (from requests->transformers==4.6.0.dev0) (4.0.0)\r\n",
      "Requirement already satisfied: idna<3,>=2.5 in /opt/conda/lib/python3.7/site-packages (from requests->transformers==4.6.0.dev0) (2.10)\r\n",
      "Requirement already satisfied: certifi>=2017.4.17 in /opt/conda/lib/python3.7/site-packages (from requests->transformers==4.6.0.dev0) (2020.12.5)\r\n",
      "Requirement already satisfied: urllib3<1.27,>=1.21.1 in /opt/conda/lib/python3.7/site-packages (from requests->transformers==4.6.0.dev0) (1.26.4)\r\n",
      "Requirement already satisfied: six in /opt/conda/lib/python3.7/site-packages (from sacremoses->transformers==4.6.0.dev0) (1.15.0)\r\n",
      "Requirement already satisfied: click in /opt/conda/lib/python3.7/site-packages (from sacremoses->transformers==4.6.0.dev0) (7.1.2)\r\n",
      "Requirement already satisfied: joblib in /opt/conda/lib/python3.7/site-packages (from sacremoses->transformers==4.6.0.dev0) (1.0.1)\r\n",
      "Building wheels for collected packages: transformers\r\n",
      "  Building wheel for transformers (PEP 517) ... \u001b[?25l-\b \b\\\b \b|\b \b/\b \b-\b \b\\\b \b|\b \bdone\r\n",
      "\u001b[?25h  Created wheel for transformers: filename=transformers-4.6.0.dev0-py3-none-any.whl size=2249233 sha256=112ddb2daf46bf41dfe6cd1717c1be933b263e94c12d8da6e0cb7a7afaee4870\r\n",
      "  Stored in directory: /tmp/pip-ephem-wheel-cache-w8px_vwn/wheels/be/1e/28/7186a3baa6fcb4e9201f390b70b4e6d75651e85d4e8a9ae413\r\n",
      "Successfully built transformers\r\n",
      "Installing collected packages: huggingface-hub, transformers\r\n",
      "  Attempting uninstall: transformers\r\n",
      "    Found existing installation: transformers 4.5.1\r\n",
      "    Uninstalling transformers-4.5.1:\r\n",
      "      Successfully uninstalled transformers-4.5.1\r\n",
      "\u001b[31mERROR: pip's dependency resolver does not currently take into account all the packages that are installed. This behaviour is the source of the following dependency conflicts.\r\n",
      "allennlp 2.3.0 requires transformers<4.6,>=4.1, but you have transformers 4.6.0.dev0 which is incompatible.\u001b[0m\r\n",
      "Successfully installed huggingface-hub-0.0.8 transformers-4.6.0.dev0\r\n"
     ]
    }
   ],
   "source": [
    "!git clone https://github.com/huggingface/transformers.git\n",
    "!pip3 install --upgrade ./transformers"
   ]
  },
  {
   "cell_type": "markdown",
   "id": "vietnamese-geography",
   "metadata": {
    "papermill": {
     "duration": 0.045783,
     "end_time": "2021-05-12T08:43:27.781548",
     "exception": false,
     "start_time": "2021-05-12T08:43:27.735765",
     "status": "completed"
    },
    "tags": []
   },
   "source": [
    "Install `emoji`"
   ]
  },
  {
   "cell_type": "code",
   "execution_count": 2,
   "id": "alternate-oregon",
   "metadata": {
    "execution": {
     "iopub.execute_input": "2021-05-12T08:43:27.881488Z",
     "iopub.status.busy": "2021-05-12T08:43:27.880561Z",
     "iopub.status.idle": "2021-05-12T08:43:33.471738Z",
     "shell.execute_reply": "2021-05-12T08:43:33.470878Z"
    },
    "papermill": {
     "duration": 5.645054,
     "end_time": "2021-05-12T08:43:33.471882",
     "exception": false,
     "start_time": "2021-05-12T08:43:27.826828",
     "status": "completed"
    },
    "tags": []
   },
   "outputs": [
    {
     "name": "stdout",
     "output_type": "stream",
     "text": [
      "Requirement already satisfied: emoji in /opt/conda/lib/python3.7/site-packages (1.2.0)\r\n"
     ]
    }
   ],
   "source": [
    "! pip install emoji"
   ]
  },
  {
   "cell_type": "code",
   "execution_count": 3,
   "id": "disabled-desperate",
   "metadata": {
    "execution": {
     "iopub.execute_input": "2021-05-12T08:43:33.572159Z",
     "iopub.status.busy": "2021-05-12T08:43:33.571072Z",
     "iopub.status.idle": "2021-05-12T08:43:42.369368Z",
     "shell.execute_reply": "2021-05-12T08:43:42.368866Z"
    },
    "papermill": {
     "duration": 8.849879,
     "end_time": "2021-05-12T08:43:42.369516",
     "exception": false,
     "start_time": "2021-05-12T08:43:33.519637",
     "status": "completed"
    },
    "tags": []
   },
   "outputs": [],
   "source": [
    "import os\n",
    "import random\n",
    "import time\n",
    "import datetime\n",
    "import torch\n",
    "import argparse\n",
    "import numpy as np\n",
    "import pandas as pd\n",
    "from torch.nn import functional as F\n",
    "from sklearn.metrics import (f1_score, recall_score, accuracy_score,\n",
    "                                precision_score)\n",
    "from transformers import (get_linear_schedule_with_warmup,AdamW,AutoModel, AutoTokenizer,\n",
    "                            AutoModelForSequenceClassification)\n",
    "from torch.utils.data import (TensorDataset,DataLoader,\n",
    "                             RandomSampler, SequentialSampler, Dataset)"
   ]
  },
  {
   "cell_type": "code",
   "execution_count": 4,
   "id": "interested-clarity",
   "metadata": {
    "execution": {
     "iopub.execute_input": "2021-05-12T08:43:42.470186Z",
     "iopub.status.busy": "2021-05-12T08:43:42.469667Z",
     "iopub.status.idle": "2021-05-12T08:43:42.473881Z",
     "shell.execute_reply": "2021-05-12T08:43:42.473420Z"
    },
    "papermill": {
     "duration": 0.057394,
     "end_time": "2021-05-12T08:43:42.474012",
     "exception": false,
     "start_time": "2021-05-12T08:43:42.416618",
     "status": "completed"
    },
    "tags": []
   },
   "outputs": [],
   "source": [
    "def flat_accuracy(preds, labels):\n",
    "    pred_flat = np.argmax(preds, axis=1).flatten()\n",
    "    labels_flat = labels.flatten()\n",
    "    return np.sum(pred_flat == labels_flat) / len(labels_flat)\n",
    "\n",
    "def format_time(elapsed):\n",
    "    elapsed_rounded = int(round((elapsed)))\n",
    "    return str(datetime.timedelta(seconds=elapsed_rounded))"
   ]
  },
  {
   "cell_type": "code",
   "execution_count": 5,
   "id": "excellent-background",
   "metadata": {
    "execution": {
     "iopub.execute_input": "2021-05-12T08:43:42.573510Z",
     "iopub.status.busy": "2021-05-12T08:43:42.572997Z",
     "iopub.status.idle": "2021-05-12T08:43:42.645771Z",
     "shell.execute_reply": "2021-05-12T08:43:42.645346Z"
    },
    "papermill": {
     "duration": 0.124313,
     "end_time": "2021-05-12T08:43:42.645884",
     "exception": false,
     "start_time": "2021-05-12T08:43:42.521571",
     "status": "completed"
    },
    "tags": []
   },
   "outputs": [],
   "source": [
    "train_df = pd.read_csv('/kaggle/input/nlp-getting-started/train.csv')\n",
    "test_df = pd.read_csv('/kaggle/input/nlp-getting-started/test.csv')"
   ]
  },
  {
   "cell_type": "code",
   "execution_count": 6,
   "id": "understanding-vitamin",
   "metadata": {
    "execution": {
     "iopub.execute_input": "2021-05-12T08:43:42.764931Z",
     "iopub.status.busy": "2021-05-12T08:43:42.764297Z",
     "iopub.status.idle": "2021-05-12T08:43:42.774442Z",
     "shell.execute_reply": "2021-05-12T08:43:42.774853Z"
    },
    "papermill": {
     "duration": 0.081838,
     "end_time": "2021-05-12T08:43:42.774981",
     "exception": false,
     "start_time": "2021-05-12T08:43:42.693143",
     "status": "completed"
    },
    "tags": []
   },
   "outputs": [
    {
     "data": {
      "text/html": [
       "<div>\n",
       "<style scoped>\n",
       "    .dataframe tbody tr th:only-of-type {\n",
       "        vertical-align: middle;\n",
       "    }\n",
       "\n",
       "    .dataframe tbody tr th {\n",
       "        vertical-align: top;\n",
       "    }\n",
       "\n",
       "    .dataframe thead th {\n",
       "        text-align: right;\n",
       "    }\n",
       "</style>\n",
       "<table border=\"1\" class=\"dataframe\">\n",
       "  <thead>\n",
       "    <tr style=\"text-align: right;\">\n",
       "      <th></th>\n",
       "      <th>id</th>\n",
       "      <th>keyword</th>\n",
       "      <th>location</th>\n",
       "      <th>text</th>\n",
       "      <th>target</th>\n",
       "    </tr>\n",
       "  </thead>\n",
       "  <tbody>\n",
       "    <tr>\n",
       "      <th>0</th>\n",
       "      <td>1</td>\n",
       "      <td>NaN</td>\n",
       "      <td>NaN</td>\n",
       "      <td>Our Deeds are the Reason of this #earthquake M...</td>\n",
       "      <td>1</td>\n",
       "    </tr>\n",
       "    <tr>\n",
       "      <th>1</th>\n",
       "      <td>4</td>\n",
       "      <td>NaN</td>\n",
       "      <td>NaN</td>\n",
       "      <td>Forest fire near La Ronge Sask. Canada</td>\n",
       "      <td>1</td>\n",
       "    </tr>\n",
       "    <tr>\n",
       "      <th>2</th>\n",
       "      <td>5</td>\n",
       "      <td>NaN</td>\n",
       "      <td>NaN</td>\n",
       "      <td>All residents asked to 'shelter in place' are ...</td>\n",
       "      <td>1</td>\n",
       "    </tr>\n",
       "    <tr>\n",
       "      <th>3</th>\n",
       "      <td>6</td>\n",
       "      <td>NaN</td>\n",
       "      <td>NaN</td>\n",
       "      <td>13,000 people receive #wildfires evacuation or...</td>\n",
       "      <td>1</td>\n",
       "    </tr>\n",
       "    <tr>\n",
       "      <th>4</th>\n",
       "      <td>7</td>\n",
       "      <td>NaN</td>\n",
       "      <td>NaN</td>\n",
       "      <td>Just got sent this photo from Ruby #Alaska as ...</td>\n",
       "      <td>1</td>\n",
       "    </tr>\n",
       "    <tr>\n",
       "      <th>...</th>\n",
       "      <td>...</td>\n",
       "      <td>...</td>\n",
       "      <td>...</td>\n",
       "      <td>...</td>\n",
       "      <td>...</td>\n",
       "    </tr>\n",
       "    <tr>\n",
       "      <th>7608</th>\n",
       "      <td>10869</td>\n",
       "      <td>NaN</td>\n",
       "      <td>NaN</td>\n",
       "      <td>Two giant cranes holding a bridge collapse int...</td>\n",
       "      <td>1</td>\n",
       "    </tr>\n",
       "    <tr>\n",
       "      <th>7609</th>\n",
       "      <td>10870</td>\n",
       "      <td>NaN</td>\n",
       "      <td>NaN</td>\n",
       "      <td>@aria_ahrary @TheTawniest The out of control w...</td>\n",
       "      <td>1</td>\n",
       "    </tr>\n",
       "    <tr>\n",
       "      <th>7610</th>\n",
       "      <td>10871</td>\n",
       "      <td>NaN</td>\n",
       "      <td>NaN</td>\n",
       "      <td>M1.94 [01:04 UTC]?5km S of Volcano Hawaii. htt...</td>\n",
       "      <td>1</td>\n",
       "    </tr>\n",
       "    <tr>\n",
       "      <th>7611</th>\n",
       "      <td>10872</td>\n",
       "      <td>NaN</td>\n",
       "      <td>NaN</td>\n",
       "      <td>Police investigating after an e-bike collided ...</td>\n",
       "      <td>1</td>\n",
       "    </tr>\n",
       "    <tr>\n",
       "      <th>7612</th>\n",
       "      <td>10873</td>\n",
       "      <td>NaN</td>\n",
       "      <td>NaN</td>\n",
       "      <td>The Latest: More Homes Razed by Northern Calif...</td>\n",
       "      <td>1</td>\n",
       "    </tr>\n",
       "  </tbody>\n",
       "</table>\n",
       "<p>7613 rows × 5 columns</p>\n",
       "</div>"
      ],
      "text/plain": [
       "         id keyword location  \\\n",
       "0         1     NaN      NaN   \n",
       "1         4     NaN      NaN   \n",
       "2         5     NaN      NaN   \n",
       "3         6     NaN      NaN   \n",
       "4         7     NaN      NaN   \n",
       "...     ...     ...      ...   \n",
       "7608  10869     NaN      NaN   \n",
       "7609  10870     NaN      NaN   \n",
       "7610  10871     NaN      NaN   \n",
       "7611  10872     NaN      NaN   \n",
       "7612  10873     NaN      NaN   \n",
       "\n",
       "                                                   text  target  \n",
       "0     Our Deeds are the Reason of this #earthquake M...       1  \n",
       "1                Forest fire near La Ronge Sask. Canada       1  \n",
       "2     All residents asked to 'shelter in place' are ...       1  \n",
       "3     13,000 people receive #wildfires evacuation or...       1  \n",
       "4     Just got sent this photo from Ruby #Alaska as ...       1  \n",
       "...                                                 ...     ...  \n",
       "7608  Two giant cranes holding a bridge collapse int...       1  \n",
       "7609  @aria_ahrary @TheTawniest The out of control w...       1  \n",
       "7610  M1.94 [01:04 UTC]?5km S of Volcano Hawaii. htt...       1  \n",
       "7611  Police investigating after an e-bike collided ...       1  \n",
       "7612  The Latest: More Homes Razed by Northern Calif...       1  \n",
       "\n",
       "[7613 rows x 5 columns]"
      ]
     },
     "execution_count": 6,
     "metadata": {},
     "output_type": "execute_result"
    }
   ],
   "source": [
    "train_df"
   ]
  },
  {
   "cell_type": "code",
   "execution_count": 7,
   "id": "separated-advocate",
   "metadata": {
    "execution": {
     "iopub.execute_input": "2021-05-12T08:43:42.878176Z",
     "iopub.status.busy": "2021-05-12T08:43:42.877622Z",
     "iopub.status.idle": "2021-05-12T08:43:42.881556Z",
     "shell.execute_reply": "2021-05-12T08:43:42.881136Z"
    },
    "papermill": {
     "duration": 0.058949,
     "end_time": "2021-05-12T08:43:42.881663",
     "exception": false,
     "start_time": "2021-05-12T08:43:42.822714",
     "status": "completed"
    },
    "tags": []
   },
   "outputs": [],
   "source": [
    "def bert_encode(df, tokenizer):\n",
    "    input_ids = []\n",
    "    attention_masks = []\n",
    "    for sent in df[[\"text\"]].values:\n",
    "        sent = sent.item()\n",
    "        encoded_dict = tokenizer.encode_plus(\n",
    "                            sent,                      \n",
    "                            add_special_tokens = True, \n",
    "                            max_length = 128,           \n",
    "                            pad_to_max_length = True,\n",
    "                            truncation = True,\n",
    "                            return_attention_mask = True,   \n",
    "                            return_tensors = 'pt',    \n",
    "                    )\n",
    "           \n",
    "        input_ids.append(encoded_dict['input_ids'])\n",
    "        attention_masks.append(encoded_dict['attention_mask'])\n",
    "    input_ids = torch.cat(input_ids, dim=0)\n",
    "    attention_masks = torch.cat(attention_masks, dim=0)\n",
    "\n",
    "    inputs = {\n",
    "    'input_word_ids': input_ids,\n",
    "    'input_mask': attention_masks}\n",
    "\n",
    "    return inputs"
   ]
  },
  {
   "cell_type": "code",
   "execution_count": 8,
   "id": "respiratory-nightlife",
   "metadata": {
    "execution": {
     "iopub.execute_input": "2021-05-12T08:43:42.985629Z",
     "iopub.status.busy": "2021-05-12T08:43:42.984950Z",
     "iopub.status.idle": "2021-05-12T08:43:42.988579Z",
     "shell.execute_reply": "2021-05-12T08:43:42.988135Z"
    },
    "papermill": {
     "duration": 0.057804,
     "end_time": "2021-05-12T08:43:42.988682",
     "exception": false,
     "start_time": "2021-05-12T08:43:42.930878",
     "status": "completed"
    },
    "tags": []
   },
   "outputs": [],
   "source": [
    "def prepare_dataloaders(train_df,test_df,batch_size=8):\n",
    "    # Load the AutoTokenizer with a normalization mode if the input Tweet is raw\n",
    "    \n",
    "    tokenizer = AutoTokenizer.from_pretrained(\"vinai/bertweet-base\", use_fast=False, normalization=True)\n",
    "    \n",
    "    tweet_train = bert_encode(train_df, tokenizer)\n",
    "    tweet_train_labels = train_df.target.astype(int)\n",
    "    \n",
    "    tweet_test = bert_encode(test_df, tokenizer)\n",
    "\n",
    "    input_ids, attention_masks = tweet_train.values()\n",
    "    labels = torch.tensor(tweet_train_labels.values)\n",
    "    train_dataset = TensorDataset(input_ids, attention_masks, labels)\n",
    "\n",
    "    \n",
    "    input_ids, attention_masks = tweet_test.values()\n",
    "    test_dataset = TensorDataset(input_ids, attention_masks)\n",
    "\n",
    "    \n",
    "    train_dataloader = DataLoader(\n",
    "                train_dataset,\n",
    "                sampler = RandomSampler(train_dataset), \n",
    "                batch_size = batch_size \n",
    "            )\n",
    "\n",
    "\n",
    "    test_dataloader = DataLoader(\n",
    "                test_dataset, \n",
    "                sampler = SequentialSampler(test_dataset), \n",
    "                batch_size = batch_size\n",
    "            )\n",
    "    return train_dataloader, test_dataloader"
   ]
  },
  {
   "cell_type": "code",
   "execution_count": 9,
   "id": "massive-hours",
   "metadata": {
    "execution": {
     "iopub.execute_input": "2021-05-12T08:43:43.087094Z",
     "iopub.status.busy": "2021-05-12T08:43:43.086609Z",
     "iopub.status.idle": "2021-05-12T08:43:50.982002Z",
     "shell.execute_reply": "2021-05-12T08:43:50.981537Z"
    },
    "papermill": {
     "duration": 7.946768,
     "end_time": "2021-05-12T08:43:50.982139",
     "exception": false,
     "start_time": "2021-05-12T08:43:43.035371",
     "status": "completed"
    },
    "tags": []
   },
   "outputs": [
    {
     "data": {
      "application/vnd.jupyter.widget-view+json": {
       "model_id": "538b6a24d3bf4abebfb892e03bdd3f94",
       "version_major": 2,
       "version_minor": 0
      },
      "text/plain": [
       "Downloading:   0%|          | 0.00/558 [00:00<?, ?B/s]"
      ]
     },
     "metadata": {},
     "output_type": "display_data"
    },
    {
     "data": {
      "application/vnd.jupyter.widget-view+json": {
       "model_id": "0e22b8adbd8d4898bcd7efc11c679e5d",
       "version_major": 2,
       "version_minor": 0
      },
      "text/plain": [
       "Downloading:   0%|          | 0.00/843k [00:00<?, ?B/s]"
      ]
     },
     "metadata": {},
     "output_type": "display_data"
    },
    {
     "data": {
      "application/vnd.jupyter.widget-view+json": {
       "model_id": "d6eee417b08f4acc8492b295a579cc58",
       "version_major": 2,
       "version_minor": 0
      },
      "text/plain": [
       "Downloading:   0%|          | 0.00/1.08M [00:00<?, ?B/s]"
      ]
     },
     "metadata": {},
     "output_type": "display_data"
    },
    {
     "name": "stderr",
     "output_type": "stream",
     "text": [
      "Special tokens have been added in the vocabulary, make sure the associated word embeddings are fine-tuned or trained.\n",
      "/opt/conda/lib/python3.7/site-packages/transformers/tokenization_utils_base.py:2110: FutureWarning: The `pad_to_max_length` argument is deprecated and will be removed in a future version, use `padding=True` or `padding='longest'` to pad to the longest sequence in the batch, or use `padding='max_length'` to pad to a max length. In this case, you can give a specific length with `max_length` (e.g. `max_length=45`) or leave max_length to None to pad to the maximal input size of the model (e.g. 512 for Bert).\n",
      "  FutureWarning,\n"
     ]
    }
   ],
   "source": [
    "train_dataloader,test_dataloader = prepare_dataloaders(train_df, test_df)\n"
   ]
  },
  {
   "cell_type": "markdown",
   "id": "imported-angel",
   "metadata": {
    "papermill": {
     "duration": 0.050254,
     "end_time": "2021-05-12T08:43:51.083319",
     "exception": false,
     "start_time": "2021-05-12T08:43:51.033065",
     "status": "completed"
    },
    "tags": []
   },
   "source": [
    "## Experiments"
   ]
  },
  {
   "cell_type": "code",
   "execution_count": 10,
   "id": "superior-douglas",
   "metadata": {
    "execution": {
     "iopub.execute_input": "2021-05-12T08:43:51.189502Z",
     "iopub.status.busy": "2021-05-12T08:43:51.188661Z",
     "iopub.status.idle": "2021-05-12T08:43:51.191446Z",
     "shell.execute_reply": "2021-05-12T08:43:51.191022Z"
    },
    "papermill": {
     "duration": 0.057733,
     "end_time": "2021-05-12T08:43:51.191558",
     "exception": false,
     "start_time": "2021-05-12T08:43:51.133825",
     "status": "completed"
    },
    "tags": []
   },
   "outputs": [],
   "source": [
    "def test_encode(sentence):\n",
    "    tokenizer = AutoTokenizer.from_pretrained(\"vinai/bertweet-base\", use_fast=False, normalization=True)\n",
    "\n",
    "    encoded_dict = tokenizer.encode_plus(\n",
    "                        sentence,                      \n",
    "                        add_special_tokens = True, \n",
    "                        max_length = 128,           \n",
    "                        pad_to_max_length = True,\n",
    "                        truncation = True,\n",
    "                        return_attention_mask = True,   \n",
    "                        return_tensors = 'pt',    \n",
    "                )\n",
    "           \n",
    "    return encoded_dict['input_ids']"
   ]
  },
  {
   "cell_type": "code",
   "execution_count": 11,
   "id": "black-slave",
   "metadata": {
    "execution": {
     "iopub.execute_input": "2021-05-12T08:43:51.294624Z",
     "iopub.status.busy": "2021-05-12T08:43:51.293748Z",
     "iopub.status.idle": "2021-05-12T08:43:51.296657Z",
     "shell.execute_reply": "2021-05-12T08:43:51.296212Z"
    },
    "papermill": {
     "duration": 0.055619,
     "end_time": "2021-05-12T08:43:51.296761",
     "exception": false,
     "start_time": "2021-05-12T08:43:51.241142",
     "status": "completed"
    },
    "tags": []
   },
   "outputs": [],
   "source": [
    "def test_decode(tokens):\n",
    "    tokenizer = AutoTokenizer.from_pretrained(\"vinai/bertweet-base\", use_fast=False, normalization=True)\n",
    "    return tokenizer.convert_ids_to_tokens(tokens)"
   ]
  },
  {
   "cell_type": "code",
   "execution_count": 12,
   "id": "informal-palestinian",
   "metadata": {
    "execution": {
     "iopub.execute_input": "2021-05-12T08:43:51.400833Z",
     "iopub.status.busy": "2021-05-12T08:43:51.400134Z",
     "iopub.status.idle": "2021-05-12T08:43:51.403122Z",
     "shell.execute_reply": "2021-05-12T08:43:51.403576Z"
    },
    "papermill": {
     "duration": 0.057563,
     "end_time": "2021-05-12T08:43:51.403693",
     "exception": false,
     "start_time": "2021-05-12T08:43:51.346130",
     "status": "completed"
    },
    "tags": []
   },
   "outputs": [
    {
     "data": {
      "text/plain": [
       "'Our Deeds are the Reason of this #earthquake May ALLAH Forgive us all'"
      ]
     },
     "execution_count": 12,
     "metadata": {},
     "output_type": "execute_result"
    }
   ],
   "source": [
    "train_df.text[0]"
   ]
  },
  {
   "cell_type": "code",
   "execution_count": 13,
   "id": "valuable-control",
   "metadata": {
    "execution": {
     "iopub.execute_input": "2021-05-12T08:43:51.508825Z",
     "iopub.status.busy": "2021-05-12T08:43:51.508030Z",
     "iopub.status.idle": "2021-05-12T08:43:53.614445Z",
     "shell.execute_reply": "2021-05-12T08:43:53.613966Z"
    },
    "papermill": {
     "duration": 2.160261,
     "end_time": "2021-05-12T08:43:53.614572",
     "exception": false,
     "start_time": "2021-05-12T08:43:51.454311",
     "status": "completed"
    },
    "tags": []
   },
   "outputs": [
    {
     "name": "stderr",
     "output_type": "stream",
     "text": [
      "Special tokens have been added in the vocabulary, make sure the associated word embeddings are fine-tuned or trained.\n"
     ]
    },
    {
     "name": "stdout",
     "output_type": "stream",
     "text": [
      "Shape      : torch.Size([1, 128])\n",
      "Word Ids   : tensor([    0,   830,   429, 17697,    41,     6,  9766,    15,    33, 38150,\n",
      "          708, 25735, 19584,   148,    48,     2,     1,     1,     1,     1,\n",
      "            1,     1,     1,     1,     1,     1,     1,     1,     1,     1,\n",
      "            1,     1,     1,     1,     1,     1,     1,     1,     1,     1,\n",
      "            1,     1,     1,     1,     1,     1,     1,     1,     1,     1,\n",
      "            1,     1,     1,     1,     1,     1,     1,     1,     1,     1,\n",
      "            1,     1,     1,     1,     1,     1,     1,     1,     1,     1,\n",
      "            1,     1,     1,     1,     1,     1,     1,     1,     1,     1,\n",
      "            1,     1,     1,     1,     1,     1,     1,     1,     1,     1,\n",
      "            1,     1,     1,     1,     1,     1,     1,     1,     1,     1,\n",
      "            1,     1,     1,     1,     1,     1,     1,     1,     1,     1,\n",
      "            1,     1,     1,     1,     1,     1,     1,     1,     1,     1,\n",
      "            1,     1,     1,     1,     1,     1,     1,     1])\n"
     ]
    },
    {
     "name": "stderr",
     "output_type": "stream",
     "text": [
      "Special tokens have been added in the vocabulary, make sure the associated word embeddings are fine-tuned or trained.\n"
     ]
    },
    {
     "name": "stdout",
     "output_type": "stream",
     "text": [
      "['<s>', 'Our', 'D@@', 'eeds', 'are', 'the', 'Reason', 'of', 'this', '#earthquake', 'May', 'ALLAH', 'Forgive', 'us', 'all', '</s>', '<pad>', '<pad>', '<pad>', '<pad>', '<pad>', '<pad>', '<pad>', '<pad>', '<pad>', '<pad>', '<pad>', '<pad>', '<pad>', '<pad>', '<pad>', '<pad>', '<pad>', '<pad>', '<pad>', '<pad>', '<pad>', '<pad>', '<pad>', '<pad>', '<pad>', '<pad>', '<pad>', '<pad>', '<pad>', '<pad>', '<pad>', '<pad>', '<pad>', '<pad>', '<pad>', '<pad>', '<pad>', '<pad>', '<pad>', '<pad>', '<pad>', '<pad>', '<pad>', '<pad>', '<pad>', '<pad>', '<pad>', '<pad>', '<pad>', '<pad>', '<pad>', '<pad>', '<pad>', '<pad>', '<pad>', '<pad>', '<pad>', '<pad>', '<pad>', '<pad>', '<pad>', '<pad>', '<pad>', '<pad>', '<pad>', '<pad>', '<pad>', '<pad>', '<pad>', '<pad>', '<pad>', '<pad>', '<pad>', '<pad>', '<pad>', '<pad>', '<pad>', '<pad>', '<pad>', '<pad>', '<pad>', '<pad>', '<pad>', '<pad>', '<pad>', '<pad>', '<pad>', '<pad>', '<pad>', '<pad>', '<pad>', '<pad>', '<pad>', '<pad>', '<pad>', '<pad>', '<pad>', '<pad>', '<pad>', '<pad>', '<pad>', '<pad>', '<pad>', '<pad>', '<pad>', '<pad>', '<pad>', '<pad>', '<pad>', '<pad>', '<pad>', '<pad>']\n"
     ]
    }
   ],
   "source": [
    "text_test = train_df.text[0]\n",
    "text_preprocessed = test_encode(text_test)\n",
    "\n",
    "\n",
    "print(f'Shape      : {text_preprocessed.shape}')\n",
    "print(f'Word Ids   : {text_preprocessed[0, :128]}')\n",
    "print(test_decode(text_preprocessed[0, :128]))"
   ]
  },
  {
   "cell_type": "markdown",
   "id": "homeless-croatia",
   "metadata": {
    "papermill": {
     "duration": 0.050402,
     "end_time": "2021-05-12T08:43:53.716556",
     "exception": false,
     "start_time": "2021-05-12T08:43:53.666154",
     "status": "completed"
    },
    "tags": []
   },
   "source": [
    "## Training"
   ]
  },
  {
   "cell_type": "code",
   "execution_count": 14,
   "id": "ethical-squad",
   "metadata": {
    "execution": {
     "iopub.execute_input": "2021-05-12T08:43:53.826186Z",
     "iopub.status.busy": "2021-05-12T08:43:53.825309Z",
     "iopub.status.idle": "2021-05-12T08:43:53.828493Z",
     "shell.execute_reply": "2021-05-12T08:43:53.827977Z"
    },
    "papermill": {
     "duration": 0.060297,
     "end_time": "2021-05-12T08:43:53.828616",
     "exception": false,
     "start_time": "2021-05-12T08:43:53.768319",
     "status": "completed"
    },
    "tags": []
   },
   "outputs": [],
   "source": [
    "def prepare_model(model_class=\"vinai/bertweet-base\",num_classes=2,model_to_load=None,total_steps=-1):\n",
    "\n",
    "\n",
    "\n",
    "    model = AutoModelForSequenceClassification.from_pretrained(\n",
    "        model_class,\n",
    "        num_labels = num_classes,  \n",
    "        output_attentions = False, \n",
    "        output_hidden_states = False,\n",
    "    )\n",
    "\n",
    "    optimizer = AdamW(model.parameters(),\n",
    "                    lr = 5e-5,\n",
    "                    eps = 1e-8\n",
    "                    )\n",
    "    scheduler = get_linear_schedule_with_warmup(optimizer, \n",
    "                                                num_warmup_steps = 0, \n",
    "                                                num_training_steps = total_steps)\n",
    "\n",
    "    if model_to_load is not None:\n",
    "        try:\n",
    "            model.roberta.load_state_dict(torch.load(model_to_load))\n",
    "            print(\"LOADED MODEL\")\n",
    "        except:\n",
    "            pass\n",
    "    return model, optimizer, scheduler"
   ]
  },
  {
   "cell_type": "code",
   "execution_count": 15,
   "id": "driven-drama",
   "metadata": {
    "execution": {
     "iopub.execute_input": "2021-05-12T08:43:53.942695Z",
     "iopub.status.busy": "2021-05-12T08:43:53.941900Z",
     "iopub.status.idle": "2021-05-12T08:44:09.457911Z",
     "shell.execute_reply": "2021-05-12T08:44:09.457391Z"
    },
    "papermill": {
     "duration": 15.574315,
     "end_time": "2021-05-12T08:44:09.458028",
     "exception": false,
     "start_time": "2021-05-12T08:43:53.883713",
     "status": "completed"
    },
    "tags": []
   },
   "outputs": [
    {
     "data": {
      "application/vnd.jupyter.widget-view+json": {
       "model_id": "056e33d216514aaab6cec2de90ea9cfc",
       "version_major": 2,
       "version_minor": 0
      },
      "text/plain": [
       "Downloading:   0%|          | 0.00/543M [00:00<?, ?B/s]"
      ]
     },
     "metadata": {},
     "output_type": "display_data"
    },
    {
     "name": "stderr",
     "output_type": "stream",
     "text": [
      "Some weights of the model checkpoint at vinai/bertweet-base were not used when initializing RobertaForSequenceClassification: ['lm_head.dense.weight', 'lm_head.decoder.bias', 'roberta.pooler.dense.bias', 'roberta.pooler.dense.weight', 'lm_head.layer_norm.weight', 'lm_head.layer_norm.bias', 'lm_head.dense.bias', 'lm_head.decoder.weight', 'lm_head.bias']\n",
      "- This IS expected if you are initializing RobertaForSequenceClassification from the checkpoint of a model trained on another task or with another architecture (e.g. initializing a BertForSequenceClassification model from a BertForPreTraining model).\n",
      "- This IS NOT expected if you are initializing RobertaForSequenceClassification from the checkpoint of a model that you expect to be exactly identical (initializing a BertForSequenceClassification model from a BertForSequenceClassification model).\n",
      "Some weights of RobertaForSequenceClassification were not initialized from the model checkpoint at vinai/bertweet-base and are newly initialized: ['classifier.dense.weight', 'classifier.out_proj.bias', 'classifier.out_proj.weight', 'classifier.dense.bias']\n",
      "You should probably TRAIN this model on a down-stream task to be able to use it for predictions and inference.\n"
     ]
    }
   ],
   "source": [
    "epochs = 5\n",
    "total_steps = len(train_dataloader) * epochs\n",
    "\n",
    "model, optimizer, scheduler = prepare_model(\"vinai/bertweet-base\" ,num_classes=2, model_to_load=None, total_steps = total_steps)"
   ]
  },
  {
   "cell_type": "code",
   "execution_count": 16,
   "id": "fifth-ribbon",
   "metadata": {
    "execution": {
     "iopub.execute_input": "2021-05-12T08:44:09.572382Z",
     "iopub.status.busy": "2021-05-12T08:44:09.571653Z",
     "iopub.status.idle": "2021-05-12T08:44:09.574303Z",
     "shell.execute_reply": "2021-05-12T08:44:09.573871Z"
    },
    "papermill": {
     "duration": 0.064525,
     "end_time": "2021-05-12T08:44:09.574411",
     "exception": false,
     "start_time": "2021-05-12T08:44:09.509886",
     "status": "completed"
    },
    "tags": []
   },
   "outputs": [],
   "source": [
    "def train(model,optimizer,scheduler,train_dataloader,epochs):\n",
    "    seed_val = 42\n",
    "    device = 'cuda' if torch.cuda.is_available() else 'cpu'\n",
    "    model.to(device)\n",
    "    random.seed(seed_val)\n",
    "    np.random.seed(seed_val)\n",
    "    torch.manual_seed(seed_val)\n",
    "    torch.cuda.manual_seed_all(seed_val)\n",
    "    training_stats = []\n",
    "    total_t0 = time.time()\n",
    "\n",
    "    for epoch_i in range(0, epochs):\n",
    "\n",
    "        print(\"\")\n",
    "        print('======== Epoch {:} / {:} ========'.format(epoch_i + 1, epochs))\n",
    "        print('Training...')\n",
    "        \n",
    "        t0 = time.time()\n",
    "        total_train_loss = 0\n",
    "        model.train()\n",
    "        for step, batch in enumerate(train_dataloader):\n",
    "            if step % 40 == 0 and not step == 0:\n",
    "                elapsed = format_time(time.time() - t0)\n",
    "                print('  Batch {:>5,}  of  {:>5,}.    Elapsed: {:}.'.format(step, len(train_dataloader), elapsed))\n",
    "            b_input_ids = batch[0].to(device)\n",
    "            b_input_mask = batch[1].to(device)\n",
    "            b_labels = batch[2].to(device)\n",
    "            model.zero_grad()        \n",
    "            outputs = model(b_input_ids, \n",
    "                                token_type_ids=None, \n",
    "                                attention_mask=b_input_mask, \n",
    "                                labels=b_labels)\n",
    "            loss = outputs.loss\n",
    "            logits = outputs.logits\n",
    "            total_train_loss += loss.item()\n",
    "            loss.backward()\n",
    "            torch.nn.utils.clip_grad_norm_(model.parameters(), 1.0)\n",
    "            optimizer.step()\n",
    "            scheduler.step()\n",
    "        avg_train_loss = total_train_loss / len(train_dataloader)            \n",
    "        training_time = format_time(time.time() - t0)\n",
    "\n",
    "        print(\"\")\n",
    "        print(\"  Average training loss: {0:.2f}\".format(avg_train_loss))\n",
    "        print(\"  Training epoch took: {:}\".format(training_time))\n",
    "\n",
    "    print(\"\")\n",
    "    print(\"Training complete!\")\n",
    "\n",
    "    print(\"Total training took {:} (h:mm:ss)\".format(format_time(time.time()-total_t0)))"
   ]
  },
  {
   "cell_type": "code",
   "execution_count": 17,
   "id": "alike-balance",
   "metadata": {
    "execution": {
     "iopub.execute_input": "2021-05-12T08:44:09.735966Z",
     "iopub.status.busy": "2021-05-12T08:44:09.735402Z",
     "iopub.status.idle": "2021-05-12T08:55:53.922007Z",
     "shell.execute_reply": "2021-05-12T08:55:53.921529Z"
    },
    "papermill": {
     "duration": 704.296487,
     "end_time": "2021-05-12T08:55:53.922137",
     "exception": false,
     "start_time": "2021-05-12T08:44:09.625650",
     "status": "completed"
    },
    "tags": []
   },
   "outputs": [
    {
     "name": "stdout",
     "output_type": "stream",
     "text": [
      "\n",
      "======== Epoch 1 / 5 ========\n",
      "Training...\n",
      "  Batch    40  of    952.    Elapsed: 0:00:07.\n",
      "  Batch    80  of    952.    Elapsed: 0:00:13.\n",
      "  Batch   120  of    952.    Elapsed: 0:00:18.\n",
      "  Batch   160  of    952.    Elapsed: 0:00:24.\n",
      "  Batch   200  of    952.    Elapsed: 0:00:30.\n",
      "  Batch   240  of    952.    Elapsed: 0:00:36.\n",
      "  Batch   280  of    952.    Elapsed: 0:00:42.\n",
      "  Batch   320  of    952.    Elapsed: 0:00:48.\n",
      "  Batch   360  of    952.    Elapsed: 0:00:53.\n",
      "  Batch   400  of    952.    Elapsed: 0:00:59.\n",
      "  Batch   440  of    952.    Elapsed: 0:01:05.\n",
      "  Batch   480  of    952.    Elapsed: 0:01:11.\n",
      "  Batch   520  of    952.    Elapsed: 0:01:17.\n",
      "  Batch   560  of    952.    Elapsed: 0:01:23.\n",
      "  Batch   600  of    952.    Elapsed: 0:01:28.\n",
      "  Batch   640  of    952.    Elapsed: 0:01:34.\n",
      "  Batch   680  of    952.    Elapsed: 0:01:40.\n",
      "  Batch   720  of    952.    Elapsed: 0:01:46.\n",
      "  Batch   760  of    952.    Elapsed: 0:01:52.\n",
      "  Batch   800  of    952.    Elapsed: 0:01:57.\n",
      "  Batch   840  of    952.    Elapsed: 0:02:03.\n",
      "  Batch   880  of    952.    Elapsed: 0:02:09.\n",
      "  Batch   920  of    952.    Elapsed: 0:02:15.\n",
      "\n",
      "  Average training loss: 0.49\n",
      "  Training epoch took: 0:02:20\n",
      "\n",
      "======== Epoch 2 / 5 ========\n",
      "Training...\n",
      "  Batch    40  of    952.    Elapsed: 0:00:06.\n",
      "  Batch    80  of    952.    Elapsed: 0:00:12.\n",
      "  Batch   120  of    952.    Elapsed: 0:00:18.\n",
      "  Batch   160  of    952.    Elapsed: 0:00:23.\n",
      "  Batch   200  of    952.    Elapsed: 0:00:29.\n",
      "  Batch   240  of    952.    Elapsed: 0:00:35.\n",
      "  Batch   280  of    952.    Elapsed: 0:00:41.\n",
      "  Batch   320  of    952.    Elapsed: 0:00:47.\n",
      "  Batch   360  of    952.    Elapsed: 0:00:53.\n",
      "  Batch   400  of    952.    Elapsed: 0:00:59.\n",
      "  Batch   440  of    952.    Elapsed: 0:01:05.\n",
      "  Batch   480  of    952.    Elapsed: 0:01:11.\n",
      "  Batch   520  of    952.    Elapsed: 0:01:17.\n",
      "  Batch   560  of    952.    Elapsed: 0:01:23.\n",
      "  Batch   600  of    952.    Elapsed: 0:01:29.\n",
      "  Batch   640  of    952.    Elapsed: 0:01:35.\n",
      "  Batch   680  of    952.    Elapsed: 0:01:41.\n",
      "  Batch   720  of    952.    Elapsed: 0:01:47.\n",
      "  Batch   760  of    952.    Elapsed: 0:01:53.\n",
      "  Batch   800  of    952.    Elapsed: 0:01:59.\n",
      "  Batch   840  of    952.    Elapsed: 0:02:05.\n",
      "  Batch   880  of    952.    Elapsed: 0:02:11.\n",
      "  Batch   920  of    952.    Elapsed: 0:02:17.\n",
      "\n",
      "  Average training loss: 0.38\n",
      "  Training epoch took: 0:02:22\n",
      "\n",
      "======== Epoch 3 / 5 ========\n",
      "Training...\n",
      "  Batch    40  of    952.    Elapsed: 0:00:06.\n",
      "  Batch    80  of    952.    Elapsed: 0:00:12.\n",
      "  Batch   120  of    952.    Elapsed: 0:00:18.\n",
      "  Batch   160  of    952.    Elapsed: 0:00:24.\n",
      "  Batch   200  of    952.    Elapsed: 0:00:30.\n",
      "  Batch   240  of    952.    Elapsed: 0:00:35.\n",
      "  Batch   280  of    952.    Elapsed: 0:00:41.\n",
      "  Batch   320  of    952.    Elapsed: 0:00:47.\n",
      "  Batch   360  of    952.    Elapsed: 0:00:53.\n",
      "  Batch   400  of    952.    Elapsed: 0:00:59.\n",
      "  Batch   440  of    952.    Elapsed: 0:01:05.\n",
      "  Batch   480  of    952.    Elapsed: 0:01:11.\n",
      "  Batch   520  of    952.    Elapsed: 0:01:17.\n",
      "  Batch   560  of    952.    Elapsed: 0:01:23.\n",
      "  Batch   600  of    952.    Elapsed: 0:01:28.\n",
      "  Batch   640  of    952.    Elapsed: 0:01:34.\n",
      "  Batch   680  of    952.    Elapsed: 0:01:40.\n",
      "  Batch   720  of    952.    Elapsed: 0:01:46.\n",
      "  Batch   760  of    952.    Elapsed: 0:01:52.\n",
      "  Batch   800  of    952.    Elapsed: 0:01:58.\n",
      "  Batch   840  of    952.    Elapsed: 0:02:04.\n",
      "  Batch   880  of    952.    Elapsed: 0:02:10.\n",
      "  Batch   920  of    952.    Elapsed: 0:02:16.\n",
      "\n",
      "  Average training loss: 0.30\n",
      "  Training epoch took: 0:02:20\n",
      "\n",
      "======== Epoch 4 / 5 ========\n",
      "Training...\n",
      "  Batch    40  of    952.    Elapsed: 0:00:06.\n",
      "  Batch    80  of    952.    Elapsed: 0:00:11.\n",
      "  Batch   120  of    952.    Elapsed: 0:00:17.\n",
      "  Batch   160  of    952.    Elapsed: 0:00:23.\n",
      "  Batch   200  of    952.    Elapsed: 0:00:29.\n",
      "  Batch   240  of    952.    Elapsed: 0:00:35.\n",
      "  Batch   280  of    952.    Elapsed: 0:00:40.\n",
      "  Batch   320  of    952.    Elapsed: 0:00:46.\n",
      "  Batch   360  of    952.    Elapsed: 0:00:52.\n",
      "  Batch   400  of    952.    Elapsed: 0:00:58.\n",
      "  Batch   440  of    952.    Elapsed: 0:01:04.\n",
      "  Batch   480  of    952.    Elapsed: 0:01:10.\n",
      "  Batch   520  of    952.    Elapsed: 0:01:15.\n",
      "  Batch   560  of    952.    Elapsed: 0:01:21.\n",
      "  Batch   600  of    952.    Elapsed: 0:01:27.\n",
      "  Batch   640  of    952.    Elapsed: 0:01:33.\n",
      "  Batch   680  of    952.    Elapsed: 0:01:39.\n",
      "  Batch   720  of    952.    Elapsed: 0:01:44.\n",
      "  Batch   760  of    952.    Elapsed: 0:01:50.\n",
      "  Batch   800  of    952.    Elapsed: 0:01:56.\n",
      "  Batch   840  of    952.    Elapsed: 0:02:02.\n",
      "  Batch   880  of    952.    Elapsed: 0:02:08.\n",
      "  Batch   920  of    952.    Elapsed: 0:02:13.\n",
      "\n",
      "  Average training loss: 0.22\n",
      "  Training epoch took: 0:02:18\n",
      "\n",
      "======== Epoch 5 / 5 ========\n",
      "Training...\n",
      "  Batch    40  of    952.    Elapsed: 0:00:06.\n",
      "  Batch    80  of    952.    Elapsed: 0:00:11.\n",
      "  Batch   120  of    952.    Elapsed: 0:00:17.\n",
      "  Batch   160  of    952.    Elapsed: 0:00:23.\n",
      "  Batch   200  of    952.    Elapsed: 0:00:29.\n",
      "  Batch   240  of    952.    Elapsed: 0:00:35.\n",
      "  Batch   280  of    952.    Elapsed: 0:00:40.\n",
      "  Batch   320  of    952.    Elapsed: 0:00:46.\n",
      "  Batch   360  of    952.    Elapsed: 0:00:52.\n",
      "  Batch   400  of    952.    Elapsed: 0:00:58.\n",
      "  Batch   440  of    952.    Elapsed: 0:01:03.\n",
      "  Batch   480  of    952.    Elapsed: 0:01:09.\n",
      "  Batch   520  of    952.    Elapsed: 0:01:15.\n",
      "  Batch   560  of    952.    Elapsed: 0:01:21.\n",
      "  Batch   600  of    952.    Elapsed: 0:01:26.\n",
      "  Batch   640  of    952.    Elapsed: 0:01:32.\n",
      "  Batch   680  of    952.    Elapsed: 0:01:38.\n",
      "  Batch   720  of    952.    Elapsed: 0:01:44.\n",
      "  Batch   760  of    952.    Elapsed: 0:01:49.\n",
      "  Batch   800  of    952.    Elapsed: 0:01:55.\n",
      "  Batch   840  of    952.    Elapsed: 0:02:01.\n",
      "  Batch   880  of    952.    Elapsed: 0:02:07.\n",
      "  Batch   920  of    952.    Elapsed: 0:02:12.\n",
      "\n",
      "  Average training loss: 0.16\n",
      "  Training epoch took: 0:02:17\n",
      "\n",
      "Training complete!\n",
      "Total training took 0:11:36 (h:mm:ss)\n"
     ]
    }
   ],
   "source": [
    "train(model,optimizer,scheduler,train_dataloader, epochs)"
   ]
  },
  {
   "cell_type": "markdown",
   "id": "neural-carter",
   "metadata": {
    "papermill": {
     "duration": 0.085364,
     "end_time": "2021-05-12T08:55:54.092821",
     "exception": false,
     "start_time": "2021-05-12T08:55:54.007457",
     "status": "completed"
    },
    "tags": []
   },
   "source": [
    "## Inference"
   ]
  },
  {
   "cell_type": "code",
   "execution_count": 18,
   "id": "korean-corps",
   "metadata": {
    "execution": {
     "iopub.execute_input": "2021-05-12T08:55:54.270040Z",
     "iopub.status.busy": "2021-05-12T08:55:54.269505Z",
     "iopub.status.idle": "2021-05-12T08:55:54.272897Z",
     "shell.execute_reply": "2021-05-12T08:55:54.273320Z"
    },
    "papermill": {
     "duration": 0.09533,
     "end_time": "2021-05-12T08:55:54.273526",
     "exception": false,
     "start_time": "2021-05-12T08:55:54.178196",
     "status": "completed"
    },
    "tags": []
   },
   "outputs": [],
   "source": [
    "def predict(model,test_dataloader):\n",
    "    model.eval()\n",
    "    device = 'cuda' if torch.cuda.is_available() else 'cpu'\n",
    "    model.to(device)\n",
    "    preds = []\n",
    "\n",
    "    for batch in test_dataloader:\n",
    "        \n",
    "        b_input_ids = batch[0].to(device)\n",
    "        b_input_mask = batch[1].to(device)\n",
    "        with torch.no_grad():        \n",
    "            outputs = model(b_input_ids, \n",
    "                                   token_type_ids=None, \n",
    "                                   attention_mask=b_input_mask)\n",
    "            logits = outputs.logits\n",
    "\n",
    "        logits = logits.detach().cpu().numpy()\n",
    "        for logit in logits:\n",
    "            preds.append(logit)\n",
    "\n",
    "    return preds"
   ]
  },
  {
   "cell_type": "code",
   "execution_count": 19,
   "id": "environmental-decline",
   "metadata": {
    "execution": {
     "iopub.execute_input": "2021-05-12T08:55:54.451721Z",
     "iopub.status.busy": "2021-05-12T08:55:54.450696Z",
     "iopub.status.idle": "2021-05-12T08:56:08.512605Z",
     "shell.execute_reply": "2021-05-12T08:56:08.513000Z"
    },
    "papermill": {
     "duration": 14.153419,
     "end_time": "2021-05-12T08:56:08.513155",
     "exception": false,
     "start_time": "2021-05-12T08:55:54.359736",
     "status": "completed"
    },
    "tags": []
   },
   "outputs": [],
   "source": [
    "result = predict(model,test_dataloader)"
   ]
  },
  {
   "cell_type": "code",
   "execution_count": 20,
   "id": "functioning-ladder",
   "metadata": {
    "execution": {
     "iopub.execute_input": "2021-05-12T08:56:08.692634Z",
     "iopub.status.busy": "2021-05-12T08:56:08.691898Z",
     "iopub.status.idle": "2021-05-12T08:56:08.700014Z",
     "shell.execute_reply": "2021-05-12T08:56:08.700553Z"
    },
    "papermill": {
     "duration": 0.105532,
     "end_time": "2021-05-12T08:56:08.700695",
     "exception": false,
     "start_time": "2021-05-12T08:56:08.595163",
     "status": "completed"
    },
    "tags": []
   },
   "outputs": [],
   "source": [
    "from scipy.special import softmax\n",
    "\n",
    "pred_labels = np.argmax(result, axis = 1)\n",
    "pred_scores = softmax(result, axis=1)[:, 1]"
   ]
  },
  {
   "cell_type": "code",
   "execution_count": 21,
   "id": "polished-return",
   "metadata": {
    "execution": {
     "iopub.execute_input": "2021-05-12T08:56:08.882538Z",
     "iopub.status.busy": "2021-05-12T08:56:08.881984Z",
     "iopub.status.idle": "2021-05-12T08:56:08.887394Z",
     "shell.execute_reply": "2021-05-12T08:56:08.886952Z"
    },
    "papermill": {
     "duration": 0.094441,
     "end_time": "2021-05-12T08:56:08.887514",
     "exception": false,
     "start_time": "2021-05-12T08:56:08.793073",
     "status": "completed"
    },
    "tags": []
   },
   "outputs": [
    {
     "data": {
      "text/plain": [
       "array([1, 1, 1, ..., 1, 1, 1])"
      ]
     },
     "execution_count": 21,
     "metadata": {},
     "output_type": "execute_result"
    }
   ],
   "source": [
    "pred_labels"
   ]
  },
  {
   "cell_type": "code",
   "execution_count": 22,
   "id": "sitting-rebate",
   "metadata": {
    "execution": {
     "iopub.execute_input": "2021-05-12T08:56:09.062891Z",
     "iopub.status.busy": "2021-05-12T08:56:09.062095Z",
     "iopub.status.idle": "2021-05-12T08:56:09.065999Z",
     "shell.execute_reply": "2021-05-12T08:56:09.066386Z"
    },
    "papermill": {
     "duration": 0.09653,
     "end_time": "2021-05-12T08:56:09.066533",
     "exception": false,
     "start_time": "2021-05-12T08:56:08.970003",
     "status": "completed"
    },
    "tags": []
   },
   "outputs": [
    {
     "data": {
      "text/html": [
       "<div>\n",
       "<style scoped>\n",
       "    .dataframe tbody tr th:only-of-type {\n",
       "        vertical-align: middle;\n",
       "    }\n",
       "\n",
       "    .dataframe tbody tr th {\n",
       "        vertical-align: top;\n",
       "    }\n",
       "\n",
       "    .dataframe thead th {\n",
       "        text-align: right;\n",
       "    }\n",
       "</style>\n",
       "<table border=\"1\" class=\"dataframe\">\n",
       "  <thead>\n",
       "    <tr style=\"text-align: right;\">\n",
       "      <th></th>\n",
       "      <th>id</th>\n",
       "      <th>target</th>\n",
       "    </tr>\n",
       "  </thead>\n",
       "  <tbody>\n",
       "    <tr>\n",
       "      <th>0</th>\n",
       "      <td>0</td>\n",
       "      <td>1</td>\n",
       "    </tr>\n",
       "    <tr>\n",
       "      <th>1</th>\n",
       "      <td>2</td>\n",
       "      <td>1</td>\n",
       "    </tr>\n",
       "    <tr>\n",
       "      <th>2</th>\n",
       "      <td>3</td>\n",
       "      <td>1</td>\n",
       "    </tr>\n",
       "    <tr>\n",
       "      <th>3</th>\n",
       "      <td>9</td>\n",
       "      <td>1</td>\n",
       "    </tr>\n",
       "    <tr>\n",
       "      <th>4</th>\n",
       "      <td>11</td>\n",
       "      <td>1</td>\n",
       "    </tr>\n",
       "    <tr>\n",
       "      <th>...</th>\n",
       "      <td>...</td>\n",
       "      <td>...</td>\n",
       "    </tr>\n",
       "    <tr>\n",
       "      <th>3258</th>\n",
       "      <td>10861</td>\n",
       "      <td>1</td>\n",
       "    </tr>\n",
       "    <tr>\n",
       "      <th>3259</th>\n",
       "      <td>10865</td>\n",
       "      <td>1</td>\n",
       "    </tr>\n",
       "    <tr>\n",
       "      <th>3260</th>\n",
       "      <td>10868</td>\n",
       "      <td>1</td>\n",
       "    </tr>\n",
       "    <tr>\n",
       "      <th>3261</th>\n",
       "      <td>10874</td>\n",
       "      <td>1</td>\n",
       "    </tr>\n",
       "    <tr>\n",
       "      <th>3262</th>\n",
       "      <td>10875</td>\n",
       "      <td>1</td>\n",
       "    </tr>\n",
       "  </tbody>\n",
       "</table>\n",
       "<p>3263 rows × 2 columns</p>\n",
       "</div>"
      ],
      "text/plain": [
       "         id  target\n",
       "0         0       1\n",
       "1         2       1\n",
       "2         3       1\n",
       "3         9       1\n",
       "4        11       1\n",
       "...     ...     ...\n",
       "3258  10861       1\n",
       "3259  10865       1\n",
       "3260  10868       1\n",
       "3261  10874       1\n",
       "3262  10875       1\n",
       "\n",
       "[3263 rows x 2 columns]"
      ]
     },
     "execution_count": 22,
     "metadata": {},
     "output_type": "execute_result"
    }
   ],
   "source": [
    "output = pd.DataFrame({'id':test_df.id,'target':pred_labels})\n",
    "output"
   ]
  },
  {
   "cell_type": "code",
   "execution_count": 23,
   "id": "willing-category",
   "metadata": {
    "execution": {
     "iopub.execute_input": "2021-05-12T08:56:09.240318Z",
     "iopub.status.busy": "2021-05-12T08:56:09.239811Z",
     "iopub.status.idle": "2021-05-12T08:56:09.372694Z",
     "shell.execute_reply": "2021-05-12T08:56:09.373100Z"
    },
    "papermill": {
     "duration": 0.222682,
     "end_time": "2021-05-12T08:56:09.373250",
     "exception": false,
     "start_time": "2021-05-12T08:56:09.150568",
     "status": "completed"
    },
    "tags": []
   },
   "outputs": [],
   "source": [
    "output.to_csv('submission.csv',index=False)"
   ]
  },
  {
   "cell_type": "code",
   "execution_count": null,
   "id": "banned-delta",
   "metadata": {
    "papermill": {
     "duration": 0.088222,
     "end_time": "2021-05-12T08:56:09.548700",
     "exception": false,
     "start_time": "2021-05-12T08:56:09.460478",
     "status": "completed"
    },
    "tags": []
   },
   "outputs": [],
   "source": []
  }
 ],
 "metadata": {
  "kernelspec": {
   "display_name": "Python 3",
   "language": "python",
   "name": "python3"
  },
  "language_info": {
   "codemirror_mode": {
    "name": "ipython",
    "version": 3
   },
   "file_extension": ".py",
   "mimetype": "text/x-python",
   "name": "python",
   "nbconvert_exporter": "python",
   "pygments_lexer": "ipython3",
   "version": "3.7.10"
  },
  "papermill": {
   "default_parameters": {},
   "duration": 800.038651,
   "end_time": "2021-05-12T08:56:12.345164",
   "environment_variables": {},
   "exception": null,
   "input_path": "__notebook__.ipynb",
   "output_path": "__notebook__.ipynb",
   "parameters": {},
   "start_time": "2021-05-12T08:42:52.306513",
   "version": "2.3.3"
  },
  "widgets": {
   "application/vnd.jupyter.widget-state+json": {
    "state": {
     "0284b63e028543e484ca707c5a2179a4": {
      "model_module": "@jupyter-widgets/controls",
      "model_module_version": "1.5.0",
      "model_name": "HTMLModel",
      "state": {
       "_dom_classes": [],
       "_model_module": "@jupyter-widgets/controls",
       "_model_module_version": "1.5.0",
       "_model_name": "HTMLModel",
       "_view_count": null,
       "_view_module": "@jupyter-widgets/controls",
       "_view_module_version": "1.5.0",
       "_view_name": "HTMLView",
       "description": "",
       "description_tooltip": null,
       "layout": "IPY_MODEL_224490ddba9b4e8db4ba704fdd598c35",
       "placeholder": "​",
       "style": "IPY_MODEL_a13a8a87308c41258eae9cb8026323c4",
       "value": " 543M/543M [00:12&lt;00:00, 41.5MB/s]"
      }
     },
     "056e33d216514aaab6cec2de90ea9cfc": {
      "model_module": "@jupyter-widgets/controls",
      "model_module_version": "1.5.0",
      "model_name": "HBoxModel",
      "state": {
       "_dom_classes": [],
       "_model_module": "@jupyter-widgets/controls",
       "_model_module_version": "1.5.0",
       "_model_name": "HBoxModel",
       "_view_count": null,
       "_view_module": "@jupyter-widgets/controls",
       "_view_module_version": "1.5.0",
       "_view_name": "HBoxView",
       "box_style": "",
       "children": [
        "IPY_MODEL_23a73d13d4ee4af9b411a79ae802d266",
        "IPY_MODEL_e0b968b4b5d041d8bdc3c4fcfc55390d",
        "IPY_MODEL_0284b63e028543e484ca707c5a2179a4"
       ],
       "layout": "IPY_MODEL_36e9d97a564e4ddd99543208f4c83eee"
      }
     },
     "05cef71057554552b46fbdde3eac14c7": {
      "model_module": "@jupyter-widgets/controls",
      "model_module_version": "1.5.0",
      "model_name": "DescriptionStyleModel",
      "state": {
       "_model_module": "@jupyter-widgets/controls",
       "_model_module_version": "1.5.0",
       "_model_name": "DescriptionStyleModel",
       "_view_count": null,
       "_view_module": "@jupyter-widgets/base",
       "_view_module_version": "1.2.0",
       "_view_name": "StyleView",
       "description_width": ""
      }
     },
     "08b70f73eff14ef5bdaa8f231f99ef54": {
      "model_module": "@jupyter-widgets/controls",
      "model_module_version": "1.5.0",
      "model_name": "DescriptionStyleModel",
      "state": {
       "_model_module": "@jupyter-widgets/controls",
       "_model_module_version": "1.5.0",
       "_model_name": "DescriptionStyleModel",
       "_view_count": null,
       "_view_module": "@jupyter-widgets/base",
       "_view_module_version": "1.2.0",
       "_view_name": "StyleView",
       "description_width": ""
      }
     },
     "0e22b8adbd8d4898bcd7efc11c679e5d": {
      "model_module": "@jupyter-widgets/controls",
      "model_module_version": "1.5.0",
      "model_name": "HBoxModel",
      "state": {
       "_dom_classes": [],
       "_model_module": "@jupyter-widgets/controls",
       "_model_module_version": "1.5.0",
       "_model_name": "HBoxModel",
       "_view_count": null,
       "_view_module": "@jupyter-widgets/controls",
       "_view_module_version": "1.5.0",
       "_view_name": "HBoxView",
       "box_style": "",
       "children": [
        "IPY_MODEL_0f5421028f6f4643b918c2de9ce66dc8",
        "IPY_MODEL_5158ddcd0aea4b9d8d9ed93a825f979b",
        "IPY_MODEL_dc473847dd9148b684c2f1f5872a811a"
       ],
       "layout": "IPY_MODEL_a3030d28dcc4448cb35a88e6eb3cc516"
      }
     },
     "0e77249442654b13889ebe69d08efdc0": {
      "model_module": "@jupyter-widgets/base",
      "model_module_version": "1.2.0",
      "model_name": "LayoutModel",
      "state": {
       "_model_module": "@jupyter-widgets/base",
       "_model_module_version": "1.2.0",
       "_model_name": "LayoutModel",
       "_view_count": null,
       "_view_module": "@jupyter-widgets/base",
       "_view_module_version": "1.2.0",
       "_view_name": "LayoutView",
       "align_content": null,
       "align_items": null,
       "align_self": null,
       "border": null,
       "bottom": null,
       "display": null,
       "flex": null,
       "flex_flow": null,
       "grid_area": null,
       "grid_auto_columns": null,
       "grid_auto_flow": null,
       "grid_auto_rows": null,
       "grid_column": null,
       "grid_gap": null,
       "grid_row": null,
       "grid_template_areas": null,
       "grid_template_columns": null,
       "grid_template_rows": null,
       "height": null,
       "justify_content": null,
       "justify_items": null,
       "left": null,
       "margin": null,
       "max_height": null,
       "max_width": null,
       "min_height": null,
       "min_width": null,
       "object_fit": null,
       "object_position": null,
       "order": null,
       "overflow": null,
       "overflow_x": null,
       "overflow_y": null,
       "padding": null,
       "right": null,
       "top": null,
       "visibility": null,
       "width": null
      }
     },
     "0f5421028f6f4643b918c2de9ce66dc8": {
      "model_module": "@jupyter-widgets/controls",
      "model_module_version": "1.5.0",
      "model_name": "HTMLModel",
      "state": {
       "_dom_classes": [],
       "_model_module": "@jupyter-widgets/controls",
       "_model_module_version": "1.5.0",
       "_model_name": "HTMLModel",
       "_view_count": null,
       "_view_module": "@jupyter-widgets/controls",
       "_view_module_version": "1.5.0",
       "_view_name": "HTMLView",
       "description": "",
       "description_tooltip": null,
       "layout": "IPY_MODEL_f2dcbabc53074118b2c98a7a98e0a5c1",
       "placeholder": "​",
       "style": "IPY_MODEL_05cef71057554552b46fbdde3eac14c7",
       "value": "Downloading: 100%"
      }
     },
     "13c2e414280a4d3baea52ff557230a99": {
      "model_module": "@jupyter-widgets/controls",
      "model_module_version": "1.5.0",
      "model_name": "DescriptionStyleModel",
      "state": {
       "_model_module": "@jupyter-widgets/controls",
       "_model_module_version": "1.5.0",
       "_model_name": "DescriptionStyleModel",
       "_view_count": null,
       "_view_module": "@jupyter-widgets/base",
       "_view_module_version": "1.2.0",
       "_view_name": "StyleView",
       "description_width": ""
      }
     },
     "165aee7607604dc8be1be889fa136c9c": {
      "model_module": "@jupyter-widgets/controls",
      "model_module_version": "1.5.0",
      "model_name": "ProgressStyleModel",
      "state": {
       "_model_module": "@jupyter-widgets/controls",
       "_model_module_version": "1.5.0",
       "_model_name": "ProgressStyleModel",
       "_view_count": null,
       "_view_module": "@jupyter-widgets/base",
       "_view_module_version": "1.2.0",
       "_view_name": "StyleView",
       "bar_color": null,
       "description_width": ""
      }
     },
     "224490ddba9b4e8db4ba704fdd598c35": {
      "model_module": "@jupyter-widgets/base",
      "model_module_version": "1.2.0",
      "model_name": "LayoutModel",
      "state": {
       "_model_module": "@jupyter-widgets/base",
       "_model_module_version": "1.2.0",
       "_model_name": "LayoutModel",
       "_view_count": null,
       "_view_module": "@jupyter-widgets/base",
       "_view_module_version": "1.2.0",
       "_view_name": "LayoutView",
       "align_content": null,
       "align_items": null,
       "align_self": null,
       "border": null,
       "bottom": null,
       "display": null,
       "flex": null,
       "flex_flow": null,
       "grid_area": null,
       "grid_auto_columns": null,
       "grid_auto_flow": null,
       "grid_auto_rows": null,
       "grid_column": null,
       "grid_gap": null,
       "grid_row": null,
       "grid_template_areas": null,
       "grid_template_columns": null,
       "grid_template_rows": null,
       "height": null,
       "justify_content": null,
       "justify_items": null,
       "left": null,
       "margin": null,
       "max_height": null,
       "max_width": null,
       "min_height": null,
       "min_width": null,
       "object_fit": null,
       "object_position": null,
       "order": null,
       "overflow": null,
       "overflow_x": null,
       "overflow_y": null,
       "padding": null,
       "right": null,
       "top": null,
       "visibility": null,
       "width": null
      }
     },
     "23a73d13d4ee4af9b411a79ae802d266": {
      "model_module": "@jupyter-widgets/controls",
      "model_module_version": "1.5.0",
      "model_name": "HTMLModel",
      "state": {
       "_dom_classes": [],
       "_model_module": "@jupyter-widgets/controls",
       "_model_module_version": "1.5.0",
       "_model_name": "HTMLModel",
       "_view_count": null,
       "_view_module": "@jupyter-widgets/controls",
       "_view_module_version": "1.5.0",
       "_view_name": "HTMLView",
       "description": "",
       "description_tooltip": null,
       "layout": "IPY_MODEL_f6bae96ec16943ca9fe1fa76cf10196b",
       "placeholder": "​",
       "style": "IPY_MODEL_2b1b7b572b4d417b8a991fffcd2f088e",
       "value": "Downloading: 100%"
      }
     },
     "2b1b7b572b4d417b8a991fffcd2f088e": {
      "model_module": "@jupyter-widgets/controls",
      "model_module_version": "1.5.0",
      "model_name": "DescriptionStyleModel",
      "state": {
       "_model_module": "@jupyter-widgets/controls",
       "_model_module_version": "1.5.0",
       "_model_name": "DescriptionStyleModel",
       "_view_count": null,
       "_view_module": "@jupyter-widgets/base",
       "_view_module_version": "1.2.0",
       "_view_name": "StyleView",
       "description_width": ""
      }
     },
     "2d8e7e8f28f644769449ff7fd47c7686": {
      "model_module": "@jupyter-widgets/base",
      "model_module_version": "1.2.0",
      "model_name": "LayoutModel",
      "state": {
       "_model_module": "@jupyter-widgets/base",
       "_model_module_version": "1.2.0",
       "_model_name": "LayoutModel",
       "_view_count": null,
       "_view_module": "@jupyter-widgets/base",
       "_view_module_version": "1.2.0",
       "_view_name": "LayoutView",
       "align_content": null,
       "align_items": null,
       "align_self": null,
       "border": null,
       "bottom": null,
       "display": null,
       "flex": null,
       "flex_flow": null,
       "grid_area": null,
       "grid_auto_columns": null,
       "grid_auto_flow": null,
       "grid_auto_rows": null,
       "grid_column": null,
       "grid_gap": null,
       "grid_row": null,
       "grid_template_areas": null,
       "grid_template_columns": null,
       "grid_template_rows": null,
       "height": null,
       "justify_content": null,
       "justify_items": null,
       "left": null,
       "margin": null,
       "max_height": null,
       "max_width": null,
       "min_height": null,
       "min_width": null,
       "object_fit": null,
       "object_position": null,
       "order": null,
       "overflow": null,
       "overflow_x": null,
       "overflow_y": null,
       "padding": null,
       "right": null,
       "top": null,
       "visibility": null,
       "width": null
      }
     },
     "36e9d97a564e4ddd99543208f4c83eee": {
      "model_module": "@jupyter-widgets/base",
      "model_module_version": "1.2.0",
      "model_name": "LayoutModel",
      "state": {
       "_model_module": "@jupyter-widgets/base",
       "_model_module_version": "1.2.0",
       "_model_name": "LayoutModel",
       "_view_count": null,
       "_view_module": "@jupyter-widgets/base",
       "_view_module_version": "1.2.0",
       "_view_name": "LayoutView",
       "align_content": null,
       "align_items": null,
       "align_self": null,
       "border": null,
       "bottom": null,
       "display": null,
       "flex": null,
       "flex_flow": null,
       "grid_area": null,
       "grid_auto_columns": null,
       "grid_auto_flow": null,
       "grid_auto_rows": null,
       "grid_column": null,
       "grid_gap": null,
       "grid_row": null,
       "grid_template_areas": null,
       "grid_template_columns": null,
       "grid_template_rows": null,
       "height": null,
       "justify_content": null,
       "justify_items": null,
       "left": null,
       "margin": null,
       "max_height": null,
       "max_width": null,
       "min_height": null,
       "min_width": null,
       "object_fit": null,
       "object_position": null,
       "order": null,
       "overflow": null,
       "overflow_x": null,
       "overflow_y": null,
       "padding": null,
       "right": null,
       "top": null,
       "visibility": null,
       "width": null
      }
     },
     "472f409884404f43adf97b9136e76994": {
      "model_module": "@jupyter-widgets/controls",
      "model_module_version": "1.5.0",
      "model_name": "HTMLModel",
      "state": {
       "_dom_classes": [],
       "_model_module": "@jupyter-widgets/controls",
       "_model_module_version": "1.5.0",
       "_model_name": "HTMLModel",
       "_view_count": null,
       "_view_module": "@jupyter-widgets/controls",
       "_view_module_version": "1.5.0",
       "_view_name": "HTMLView",
       "description": "",
       "description_tooltip": null,
       "layout": "IPY_MODEL_a2e164d72ac945e986c0462a35ea0754",
       "placeholder": "​",
       "style": "IPY_MODEL_709cc7e42f6e481084009694370ebf89",
       "value": "Downloading: 100%"
      }
     },
     "5158ddcd0aea4b9d8d9ed93a825f979b": {
      "model_module": "@jupyter-widgets/controls",
      "model_module_version": "1.5.0",
      "model_name": "FloatProgressModel",
      "state": {
       "_dom_classes": [],
       "_model_module": "@jupyter-widgets/controls",
       "_model_module_version": "1.5.0",
       "_model_name": "FloatProgressModel",
       "_view_count": null,
       "_view_module": "@jupyter-widgets/controls",
       "_view_module_version": "1.5.0",
       "_view_name": "ProgressView",
       "bar_style": "success",
       "description": "",
       "description_tooltip": null,
       "layout": "IPY_MODEL_ad9d5349b1454f568983e2b904da45f2",
       "max": 843438.0,
       "min": 0.0,
       "orientation": "horizontal",
       "style": "IPY_MODEL_165aee7607604dc8be1be889fa136c9c",
       "value": 843438.0
      }
     },
     "5308613d8d0d4f3f85704eee69d848b2": {
      "model_module": "@jupyter-widgets/controls",
      "model_module_version": "1.5.0",
      "model_name": "DescriptionStyleModel",
      "state": {
       "_model_module": "@jupyter-widgets/controls",
       "_model_module_version": "1.5.0",
       "_model_name": "DescriptionStyleModel",
       "_view_count": null,
       "_view_module": "@jupyter-widgets/base",
       "_view_module_version": "1.2.0",
       "_view_name": "StyleView",
       "description_width": ""
      }
     },
     "538b6a24d3bf4abebfb892e03bdd3f94": {
      "model_module": "@jupyter-widgets/controls",
      "model_module_version": "1.5.0",
      "model_name": "HBoxModel",
      "state": {
       "_dom_classes": [],
       "_model_module": "@jupyter-widgets/controls",
       "_model_module_version": "1.5.0",
       "_model_name": "HBoxModel",
       "_view_count": null,
       "_view_module": "@jupyter-widgets/controls",
       "_view_module_version": "1.5.0",
       "_view_name": "HBoxView",
       "box_style": "",
       "children": [
        "IPY_MODEL_81cfa9817a3f4d609dff0e73fe592d5e",
        "IPY_MODEL_5bc8382c828c43a183afb6015aea6cb9",
        "IPY_MODEL_e4a3c509fa044714b460cffac737fc72"
       ],
       "layout": "IPY_MODEL_ef0b1173895e4084abdaae558fb5e607"
      }
     },
     "56bff8244c784e3b88d1db97f3d2da19": {
      "model_module": "@jupyter-widgets/controls",
      "model_module_version": "1.5.0",
      "model_name": "ProgressStyleModel",
      "state": {
       "_model_module": "@jupyter-widgets/controls",
       "_model_module_version": "1.5.0",
       "_model_name": "ProgressStyleModel",
       "_view_count": null,
       "_view_module": "@jupyter-widgets/base",
       "_view_module_version": "1.2.0",
       "_view_name": "StyleView",
       "bar_color": null,
       "description_width": ""
      }
     },
     "5bc8382c828c43a183afb6015aea6cb9": {
      "model_module": "@jupyter-widgets/controls",
      "model_module_version": "1.5.0",
      "model_name": "FloatProgressModel",
      "state": {
       "_dom_classes": [],
       "_model_module": "@jupyter-widgets/controls",
       "_model_module_version": "1.5.0",
       "_model_name": "FloatProgressModel",
       "_view_count": null,
       "_view_module": "@jupyter-widgets/controls",
       "_view_module_version": "1.5.0",
       "_view_name": "ProgressView",
       "bar_style": "success",
       "description": "",
       "description_tooltip": null,
       "layout": "IPY_MODEL_7d469f530e8d41488201e41d1403518d",
       "max": 558.0,
       "min": 0.0,
       "orientation": "horizontal",
       "style": "IPY_MODEL_f750cd5e9a8d45f0879aca54c37ab8a5",
       "value": 558.0
      }
     },
     "63f210cdcca84cf190afc3dfcf0385e4": {
      "model_module": "@jupyter-widgets/base",
      "model_module_version": "1.2.0",
      "model_name": "LayoutModel",
      "state": {
       "_model_module": "@jupyter-widgets/base",
       "_model_module_version": "1.2.0",
       "_model_name": "LayoutModel",
       "_view_count": null,
       "_view_module": "@jupyter-widgets/base",
       "_view_module_version": "1.2.0",
       "_view_name": "LayoutView",
       "align_content": null,
       "align_items": null,
       "align_self": null,
       "border": null,
       "bottom": null,
       "display": null,
       "flex": null,
       "flex_flow": null,
       "grid_area": null,
       "grid_auto_columns": null,
       "grid_auto_flow": null,
       "grid_auto_rows": null,
       "grid_column": null,
       "grid_gap": null,
       "grid_row": null,
       "grid_template_areas": null,
       "grid_template_columns": null,
       "grid_template_rows": null,
       "height": null,
       "justify_content": null,
       "justify_items": null,
       "left": null,
       "margin": null,
       "max_height": null,
       "max_width": null,
       "min_height": null,
       "min_width": null,
       "object_fit": null,
       "object_position": null,
       "order": null,
       "overflow": null,
       "overflow_x": null,
       "overflow_y": null,
       "padding": null,
       "right": null,
       "top": null,
       "visibility": null,
       "width": null
      }
     },
     "709cc7e42f6e481084009694370ebf89": {
      "model_module": "@jupyter-widgets/controls",
      "model_module_version": "1.5.0",
      "model_name": "DescriptionStyleModel",
      "state": {
       "_model_module": "@jupyter-widgets/controls",
       "_model_module_version": "1.5.0",
       "_model_name": "DescriptionStyleModel",
       "_view_count": null,
       "_view_module": "@jupyter-widgets/base",
       "_view_module_version": "1.2.0",
       "_view_name": "StyleView",
       "description_width": ""
      }
     },
     "74cc0c52350c4fa8800eb4e7be6f997e": {
      "model_module": "@jupyter-widgets/controls",
      "model_module_version": "1.5.0",
      "model_name": "DescriptionStyleModel",
      "state": {
       "_model_module": "@jupyter-widgets/controls",
       "_model_module_version": "1.5.0",
       "_model_name": "DescriptionStyleModel",
       "_view_count": null,
       "_view_module": "@jupyter-widgets/base",
       "_view_module_version": "1.2.0",
       "_view_name": "StyleView",
       "description_width": ""
      }
     },
     "7d469f530e8d41488201e41d1403518d": {
      "model_module": "@jupyter-widgets/base",
      "model_module_version": "1.2.0",
      "model_name": "LayoutModel",
      "state": {
       "_model_module": "@jupyter-widgets/base",
       "_model_module_version": "1.2.0",
       "_model_name": "LayoutModel",
       "_view_count": null,
       "_view_module": "@jupyter-widgets/base",
       "_view_module_version": "1.2.0",
       "_view_name": "LayoutView",
       "align_content": null,
       "align_items": null,
       "align_self": null,
       "border": null,
       "bottom": null,
       "display": null,
       "flex": null,
       "flex_flow": null,
       "grid_area": null,
       "grid_auto_columns": null,
       "grid_auto_flow": null,
       "grid_auto_rows": null,
       "grid_column": null,
       "grid_gap": null,
       "grid_row": null,
       "grid_template_areas": null,
       "grid_template_columns": null,
       "grid_template_rows": null,
       "height": null,
       "justify_content": null,
       "justify_items": null,
       "left": null,
       "margin": null,
       "max_height": null,
       "max_width": null,
       "min_height": null,
       "min_width": null,
       "object_fit": null,
       "object_position": null,
       "order": null,
       "overflow": null,
       "overflow_x": null,
       "overflow_y": null,
       "padding": null,
       "right": null,
       "top": null,
       "visibility": null,
       "width": null
      }
     },
     "81cfa9817a3f4d609dff0e73fe592d5e": {
      "model_module": "@jupyter-widgets/controls",
      "model_module_version": "1.5.0",
      "model_name": "HTMLModel",
      "state": {
       "_dom_classes": [],
       "_model_module": "@jupyter-widgets/controls",
       "_model_module_version": "1.5.0",
       "_model_name": "HTMLModel",
       "_view_count": null,
       "_view_module": "@jupyter-widgets/controls",
       "_view_module_version": "1.5.0",
       "_view_name": "HTMLView",
       "description": "",
       "description_tooltip": null,
       "layout": "IPY_MODEL_97760480a5c84048802110bccb97fe20",
       "placeholder": "​",
       "style": "IPY_MODEL_13c2e414280a4d3baea52ff557230a99",
       "value": "Downloading: 100%"
      }
     },
     "9573d29cc28c46feb85e4eb1fb25a30d": {
      "model_module": "@jupyter-widgets/base",
      "model_module_version": "1.2.0",
      "model_name": "LayoutModel",
      "state": {
       "_model_module": "@jupyter-widgets/base",
       "_model_module_version": "1.2.0",
       "_model_name": "LayoutModel",
       "_view_count": null,
       "_view_module": "@jupyter-widgets/base",
       "_view_module_version": "1.2.0",
       "_view_name": "LayoutView",
       "align_content": null,
       "align_items": null,
       "align_self": null,
       "border": null,
       "bottom": null,
       "display": null,
       "flex": null,
       "flex_flow": null,
       "grid_area": null,
       "grid_auto_columns": null,
       "grid_auto_flow": null,
       "grid_auto_rows": null,
       "grid_column": null,
       "grid_gap": null,
       "grid_row": null,
       "grid_template_areas": null,
       "grid_template_columns": null,
       "grid_template_rows": null,
       "height": null,
       "justify_content": null,
       "justify_items": null,
       "left": null,
       "margin": null,
       "max_height": null,
       "max_width": null,
       "min_height": null,
       "min_width": null,
       "object_fit": null,
       "object_position": null,
       "order": null,
       "overflow": null,
       "overflow_x": null,
       "overflow_y": null,
       "padding": null,
       "right": null,
       "top": null,
       "visibility": null,
       "width": null
      }
     },
     "97760480a5c84048802110bccb97fe20": {
      "model_module": "@jupyter-widgets/base",
      "model_module_version": "1.2.0",
      "model_name": "LayoutModel",
      "state": {
       "_model_module": "@jupyter-widgets/base",
       "_model_module_version": "1.2.0",
       "_model_name": "LayoutModel",
       "_view_count": null,
       "_view_module": "@jupyter-widgets/base",
       "_view_module_version": "1.2.0",
       "_view_name": "LayoutView",
       "align_content": null,
       "align_items": null,
       "align_self": null,
       "border": null,
       "bottom": null,
       "display": null,
       "flex": null,
       "flex_flow": null,
       "grid_area": null,
       "grid_auto_columns": null,
       "grid_auto_flow": null,
       "grid_auto_rows": null,
       "grid_column": null,
       "grid_gap": null,
       "grid_row": null,
       "grid_template_areas": null,
       "grid_template_columns": null,
       "grid_template_rows": null,
       "height": null,
       "justify_content": null,
       "justify_items": null,
       "left": null,
       "margin": null,
       "max_height": null,
       "max_width": null,
       "min_height": null,
       "min_width": null,
       "object_fit": null,
       "object_position": null,
       "order": null,
       "overflow": null,
       "overflow_x": null,
       "overflow_y": null,
       "padding": null,
       "right": null,
       "top": null,
       "visibility": null,
       "width": null
      }
     },
     "9d37a1d2db7849e98c369bbcc130f80b": {
      "model_module": "@jupyter-widgets/controls",
      "model_module_version": "1.5.0",
      "model_name": "HTMLModel",
      "state": {
       "_dom_classes": [],
       "_model_module": "@jupyter-widgets/controls",
       "_model_module_version": "1.5.0",
       "_model_name": "HTMLModel",
       "_view_count": null,
       "_view_module": "@jupyter-widgets/controls",
       "_view_module_version": "1.5.0",
       "_view_name": "HTMLView",
       "description": "",
       "description_tooltip": null,
       "layout": "IPY_MODEL_63f210cdcca84cf190afc3dfcf0385e4",
       "placeholder": "​",
       "style": "IPY_MODEL_08b70f73eff14ef5bdaa8f231f99ef54",
       "value": " 1.08M/1.08M [00:00&lt;00:00, 1.86MB/s]"
      }
     },
     "a13a8a87308c41258eae9cb8026323c4": {
      "model_module": "@jupyter-widgets/controls",
      "model_module_version": "1.5.0",
      "model_name": "DescriptionStyleModel",
      "state": {
       "_model_module": "@jupyter-widgets/controls",
       "_model_module_version": "1.5.0",
       "_model_name": "DescriptionStyleModel",
       "_view_count": null,
       "_view_module": "@jupyter-widgets/base",
       "_view_module_version": "1.2.0",
       "_view_name": "StyleView",
       "description_width": ""
      }
     },
     "a2e164d72ac945e986c0462a35ea0754": {
      "model_module": "@jupyter-widgets/base",
      "model_module_version": "1.2.0",
      "model_name": "LayoutModel",
      "state": {
       "_model_module": "@jupyter-widgets/base",
       "_model_module_version": "1.2.0",
       "_model_name": "LayoutModel",
       "_view_count": null,
       "_view_module": "@jupyter-widgets/base",
       "_view_module_version": "1.2.0",
       "_view_name": "LayoutView",
       "align_content": null,
       "align_items": null,
       "align_self": null,
       "border": null,
       "bottom": null,
       "display": null,
       "flex": null,
       "flex_flow": null,
       "grid_area": null,
       "grid_auto_columns": null,
       "grid_auto_flow": null,
       "grid_auto_rows": null,
       "grid_column": null,
       "grid_gap": null,
       "grid_row": null,
       "grid_template_areas": null,
       "grid_template_columns": null,
       "grid_template_rows": null,
       "height": null,
       "justify_content": null,
       "justify_items": null,
       "left": null,
       "margin": null,
       "max_height": null,
       "max_width": null,
       "min_height": null,
       "min_width": null,
       "object_fit": null,
       "object_position": null,
       "order": null,
       "overflow": null,
       "overflow_x": null,
       "overflow_y": null,
       "padding": null,
       "right": null,
       "top": null,
       "visibility": null,
       "width": null
      }
     },
     "a3030d28dcc4448cb35a88e6eb3cc516": {
      "model_module": "@jupyter-widgets/base",
      "model_module_version": "1.2.0",
      "model_name": "LayoutModel",
      "state": {
       "_model_module": "@jupyter-widgets/base",
       "_model_module_version": "1.2.0",
       "_model_name": "LayoutModel",
       "_view_count": null,
       "_view_module": "@jupyter-widgets/base",
       "_view_module_version": "1.2.0",
       "_view_name": "LayoutView",
       "align_content": null,
       "align_items": null,
       "align_self": null,
       "border": null,
       "bottom": null,
       "display": null,
       "flex": null,
       "flex_flow": null,
       "grid_area": null,
       "grid_auto_columns": null,
       "grid_auto_flow": null,
       "grid_auto_rows": null,
       "grid_column": null,
       "grid_gap": null,
       "grid_row": null,
       "grid_template_areas": null,
       "grid_template_columns": null,
       "grid_template_rows": null,
       "height": null,
       "justify_content": null,
       "justify_items": null,
       "left": null,
       "margin": null,
       "max_height": null,
       "max_width": null,
       "min_height": null,
       "min_width": null,
       "object_fit": null,
       "object_position": null,
       "order": null,
       "overflow": null,
       "overflow_x": null,
       "overflow_y": null,
       "padding": null,
       "right": null,
       "top": null,
       "visibility": null,
       "width": null
      }
     },
     "ad9d5349b1454f568983e2b904da45f2": {
      "model_module": "@jupyter-widgets/base",
      "model_module_version": "1.2.0",
      "model_name": "LayoutModel",
      "state": {
       "_model_module": "@jupyter-widgets/base",
       "_model_module_version": "1.2.0",
       "_model_name": "LayoutModel",
       "_view_count": null,
       "_view_module": "@jupyter-widgets/base",
       "_view_module_version": "1.2.0",
       "_view_name": "LayoutView",
       "align_content": null,
       "align_items": null,
       "align_self": null,
       "border": null,
       "bottom": null,
       "display": null,
       "flex": null,
       "flex_flow": null,
       "grid_area": null,
       "grid_auto_columns": null,
       "grid_auto_flow": null,
       "grid_auto_rows": null,
       "grid_column": null,
       "grid_gap": null,
       "grid_row": null,
       "grid_template_areas": null,
       "grid_template_columns": null,
       "grid_template_rows": null,
       "height": null,
       "justify_content": null,
       "justify_items": null,
       "left": null,
       "margin": null,
       "max_height": null,
       "max_width": null,
       "min_height": null,
       "min_width": null,
       "object_fit": null,
       "object_position": null,
       "order": null,
       "overflow": null,
       "overflow_x": null,
       "overflow_y": null,
       "padding": null,
       "right": null,
       "top": null,
       "visibility": null,
       "width": null
      }
     },
     "c57689cfd27d4745bc28120c26b2e675": {
      "model_module": "@jupyter-widgets/controls",
      "model_module_version": "1.5.0",
      "model_name": "FloatProgressModel",
      "state": {
       "_dom_classes": [],
       "_model_module": "@jupyter-widgets/controls",
       "_model_module_version": "1.5.0",
       "_model_name": "FloatProgressModel",
       "_view_count": null,
       "_view_module": "@jupyter-widgets/controls",
       "_view_module_version": "1.5.0",
       "_view_name": "ProgressView",
       "bar_style": "success",
       "description": "",
       "description_tooltip": null,
       "layout": "IPY_MODEL_9573d29cc28c46feb85e4eb1fb25a30d",
       "max": 1078931.0,
       "min": 0.0,
       "orientation": "horizontal",
       "style": "IPY_MODEL_56bff8244c784e3b88d1db97f3d2da19",
       "value": 1078931.0
      }
     },
     "c702050601ea45baa24995a3dfe3ebcd": {
      "model_module": "@jupyter-widgets/controls",
      "model_module_version": "1.5.0",
      "model_name": "ProgressStyleModel",
      "state": {
       "_model_module": "@jupyter-widgets/controls",
       "_model_module_version": "1.5.0",
       "_model_name": "ProgressStyleModel",
       "_view_count": null,
       "_view_module": "@jupyter-widgets/base",
       "_view_module_version": "1.2.0",
       "_view_name": "StyleView",
       "bar_color": null,
       "description_width": ""
      }
     },
     "d6eee417b08f4acc8492b295a579cc58": {
      "model_module": "@jupyter-widgets/controls",
      "model_module_version": "1.5.0",
      "model_name": "HBoxModel",
      "state": {
       "_dom_classes": [],
       "_model_module": "@jupyter-widgets/controls",
       "_model_module_version": "1.5.0",
       "_model_name": "HBoxModel",
       "_view_count": null,
       "_view_module": "@jupyter-widgets/controls",
       "_view_module_version": "1.5.0",
       "_view_name": "HBoxView",
       "box_style": "",
       "children": [
        "IPY_MODEL_472f409884404f43adf97b9136e76994",
        "IPY_MODEL_c57689cfd27d4745bc28120c26b2e675",
        "IPY_MODEL_9d37a1d2db7849e98c369bbcc130f80b"
       ],
       "layout": "IPY_MODEL_2d8e7e8f28f644769449ff7fd47c7686"
      }
     },
     "dc473847dd9148b684c2f1f5872a811a": {
      "model_module": "@jupyter-widgets/controls",
      "model_module_version": "1.5.0",
      "model_name": "HTMLModel",
      "state": {
       "_dom_classes": [],
       "_model_module": "@jupyter-widgets/controls",
       "_model_module_version": "1.5.0",
       "_model_name": "HTMLModel",
       "_view_count": null,
       "_view_module": "@jupyter-widgets/controls",
       "_view_module_version": "1.5.0",
       "_view_name": "HTMLView",
       "description": "",
       "description_tooltip": null,
       "layout": "IPY_MODEL_feaa703c3002407aa646bc8fa62ffff8",
       "placeholder": "​",
       "style": "IPY_MODEL_5308613d8d0d4f3f85704eee69d848b2",
       "value": " 843k/843k [00:00&lt;00:00, 1.31MB/s]"
      }
     },
     "e0b968b4b5d041d8bdc3c4fcfc55390d": {
      "model_module": "@jupyter-widgets/controls",
      "model_module_version": "1.5.0",
      "model_name": "FloatProgressModel",
      "state": {
       "_dom_classes": [],
       "_model_module": "@jupyter-widgets/controls",
       "_model_module_version": "1.5.0",
       "_model_name": "FloatProgressModel",
       "_view_count": null,
       "_view_module": "@jupyter-widgets/controls",
       "_view_module_version": "1.5.0",
       "_view_name": "ProgressView",
       "bar_style": "success",
       "description": "",
       "description_tooltip": null,
       "layout": "IPY_MODEL_0e77249442654b13889ebe69d08efdc0",
       "max": 542529064.0,
       "min": 0.0,
       "orientation": "horizontal",
       "style": "IPY_MODEL_c702050601ea45baa24995a3dfe3ebcd",
       "value": 542529064.0
      }
     },
     "e4a3c509fa044714b460cffac737fc72": {
      "model_module": "@jupyter-widgets/controls",
      "model_module_version": "1.5.0",
      "model_name": "HTMLModel",
      "state": {
       "_dom_classes": [],
       "_model_module": "@jupyter-widgets/controls",
       "_model_module_version": "1.5.0",
       "_model_name": "HTMLModel",
       "_view_count": null,
       "_view_module": "@jupyter-widgets/controls",
       "_view_module_version": "1.5.0",
       "_view_name": "HTMLView",
       "description": "",
       "description_tooltip": null,
       "layout": "IPY_MODEL_f0328e5218434c1a9c1a956948c7c831",
       "placeholder": "​",
       "style": "IPY_MODEL_74cc0c52350c4fa8800eb4e7be6f997e",
       "value": " 558/558 [00:00&lt;00:00, 19.9kB/s]"
      }
     },
     "ef0b1173895e4084abdaae558fb5e607": {
      "model_module": "@jupyter-widgets/base",
      "model_module_version": "1.2.0",
      "model_name": "LayoutModel",
      "state": {
       "_model_module": "@jupyter-widgets/base",
       "_model_module_version": "1.2.0",
       "_model_name": "LayoutModel",
       "_view_count": null,
       "_view_module": "@jupyter-widgets/base",
       "_view_module_version": "1.2.0",
       "_view_name": "LayoutView",
       "align_content": null,
       "align_items": null,
       "align_self": null,
       "border": null,
       "bottom": null,
       "display": null,
       "flex": null,
       "flex_flow": null,
       "grid_area": null,
       "grid_auto_columns": null,
       "grid_auto_flow": null,
       "grid_auto_rows": null,
       "grid_column": null,
       "grid_gap": null,
       "grid_row": null,
       "grid_template_areas": null,
       "grid_template_columns": null,
       "grid_template_rows": null,
       "height": null,
       "justify_content": null,
       "justify_items": null,
       "left": null,
       "margin": null,
       "max_height": null,
       "max_width": null,
       "min_height": null,
       "min_width": null,
       "object_fit": null,
       "object_position": null,
       "order": null,
       "overflow": null,
       "overflow_x": null,
       "overflow_y": null,
       "padding": null,
       "right": null,
       "top": null,
       "visibility": null,
       "width": null
      }
     },
     "f0328e5218434c1a9c1a956948c7c831": {
      "model_module": "@jupyter-widgets/base",
      "model_module_version": "1.2.0",
      "model_name": "LayoutModel",
      "state": {
       "_model_module": "@jupyter-widgets/base",
       "_model_module_version": "1.2.0",
       "_model_name": "LayoutModel",
       "_view_count": null,
       "_view_module": "@jupyter-widgets/base",
       "_view_module_version": "1.2.0",
       "_view_name": "LayoutView",
       "align_content": null,
       "align_items": null,
       "align_self": null,
       "border": null,
       "bottom": null,
       "display": null,
       "flex": null,
       "flex_flow": null,
       "grid_area": null,
       "grid_auto_columns": null,
       "grid_auto_flow": null,
       "grid_auto_rows": null,
       "grid_column": null,
       "grid_gap": null,
       "grid_row": null,
       "grid_template_areas": null,
       "grid_template_columns": null,
       "grid_template_rows": null,
       "height": null,
       "justify_content": null,
       "justify_items": null,
       "left": null,
       "margin": null,
       "max_height": null,
       "max_width": null,
       "min_height": null,
       "min_width": null,
       "object_fit": null,
       "object_position": null,
       "order": null,
       "overflow": null,
       "overflow_x": null,
       "overflow_y": null,
       "padding": null,
       "right": null,
       "top": null,
       "visibility": null,
       "width": null
      }
     },
     "f2dcbabc53074118b2c98a7a98e0a5c1": {
      "model_module": "@jupyter-widgets/base",
      "model_module_version": "1.2.0",
      "model_name": "LayoutModel",
      "state": {
       "_model_module": "@jupyter-widgets/base",
       "_model_module_version": "1.2.0",
       "_model_name": "LayoutModel",
       "_view_count": null,
       "_view_module": "@jupyter-widgets/base",
       "_view_module_version": "1.2.0",
       "_view_name": "LayoutView",
       "align_content": null,
       "align_items": null,
       "align_self": null,
       "border": null,
       "bottom": null,
       "display": null,
       "flex": null,
       "flex_flow": null,
       "grid_area": null,
       "grid_auto_columns": null,
       "grid_auto_flow": null,
       "grid_auto_rows": null,
       "grid_column": null,
       "grid_gap": null,
       "grid_row": null,
       "grid_template_areas": null,
       "grid_template_columns": null,
       "grid_template_rows": null,
       "height": null,
       "justify_content": null,
       "justify_items": null,
       "left": null,
       "margin": null,
       "max_height": null,
       "max_width": null,
       "min_height": null,
       "min_width": null,
       "object_fit": null,
       "object_position": null,
       "order": null,
       "overflow": null,
       "overflow_x": null,
       "overflow_y": null,
       "padding": null,
       "right": null,
       "top": null,
       "visibility": null,
       "width": null
      }
     },
     "f6bae96ec16943ca9fe1fa76cf10196b": {
      "model_module": "@jupyter-widgets/base",
      "model_module_version": "1.2.0",
      "model_name": "LayoutModel",
      "state": {
       "_model_module": "@jupyter-widgets/base",
       "_model_module_version": "1.2.0",
       "_model_name": "LayoutModel",
       "_view_count": null,
       "_view_module": "@jupyter-widgets/base",
       "_view_module_version": "1.2.0",
       "_view_name": "LayoutView",
       "align_content": null,
       "align_items": null,
       "align_self": null,
       "border": null,
       "bottom": null,
       "display": null,
       "flex": null,
       "flex_flow": null,
       "grid_area": null,
       "grid_auto_columns": null,
       "grid_auto_flow": null,
       "grid_auto_rows": null,
       "grid_column": null,
       "grid_gap": null,
       "grid_row": null,
       "grid_template_areas": null,
       "grid_template_columns": null,
       "grid_template_rows": null,
       "height": null,
       "justify_content": null,
       "justify_items": null,
       "left": null,
       "margin": null,
       "max_height": null,
       "max_width": null,
       "min_height": null,
       "min_width": null,
       "object_fit": null,
       "object_position": null,
       "order": null,
       "overflow": null,
       "overflow_x": null,
       "overflow_y": null,
       "padding": null,
       "right": null,
       "top": null,
       "visibility": null,
       "width": null
      }
     },
     "f750cd5e9a8d45f0879aca54c37ab8a5": {
      "model_module": "@jupyter-widgets/controls",
      "model_module_version": "1.5.0",
      "model_name": "ProgressStyleModel",
      "state": {
       "_model_module": "@jupyter-widgets/controls",
       "_model_module_version": "1.5.0",
       "_model_name": "ProgressStyleModel",
       "_view_count": null,
       "_view_module": "@jupyter-widgets/base",
       "_view_module_version": "1.2.0",
       "_view_name": "StyleView",
       "bar_color": null,
       "description_width": ""
      }
     },
     "feaa703c3002407aa646bc8fa62ffff8": {
      "model_module": "@jupyter-widgets/base",
      "model_module_version": "1.2.0",
      "model_name": "LayoutModel",
      "state": {
       "_model_module": "@jupyter-widgets/base",
       "_model_module_version": "1.2.0",
       "_model_name": "LayoutModel",
       "_view_count": null,
       "_view_module": "@jupyter-widgets/base",
       "_view_module_version": "1.2.0",
       "_view_name": "LayoutView",
       "align_content": null,
       "align_items": null,
       "align_self": null,
       "border": null,
       "bottom": null,
       "display": null,
       "flex": null,
       "flex_flow": null,
       "grid_area": null,
       "grid_auto_columns": null,
       "grid_auto_flow": null,
       "grid_auto_rows": null,
       "grid_column": null,
       "grid_gap": null,
       "grid_row": null,
       "grid_template_areas": null,
       "grid_template_columns": null,
       "grid_template_rows": null,
       "height": null,
       "justify_content": null,
       "justify_items": null,
       "left": null,
       "margin": null,
       "max_height": null,
       "max_width": null,
       "min_height": null,
       "min_width": null,
       "object_fit": null,
       "object_position": null,
       "order": null,
       "overflow": null,
       "overflow_x": null,
       "overflow_y": null,
       "padding": null,
       "right": null,
       "top": null,
       "visibility": null,
       "width": null
      }
     }
    },
    "version_major": 2,
    "version_minor": 0
   }
  }
 },
 "nbformat": 4,
 "nbformat_minor": 5
}
