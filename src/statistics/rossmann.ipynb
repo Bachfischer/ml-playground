{
 "cells": [
  {
   "cell_type": "code",
   "execution_count": 63,
   "metadata": {
    "collapsed": true
   },
   "outputs": [],
   "source": [
    "import pandas as pd\n",
    "import numpy as np"
   ]
  },
  {
   "cell_type": "code",
   "execution_count": 64,
   "outputs": [
    {
     "name": "stderr",
     "output_type": "stream",
     "text": [
      "/Users/bachfischer/opt/anaconda3/lib/python3.9/site-packages/IPython/core/interactiveshell.py:3444: DtypeWarning: Columns (7) have mixed types.Specify dtype option on import or set low_memory=False.\n",
      "  exec(code_obj, self.user_global_ns, self.user_ns)\n"
     ]
    }
   ],
   "source": [
    "train_df = pd.read_csv(\"../../data/rossmann-store-sales/train.csv\")\n",
    "test_df = pd.read_csv(\"../../data/rossmann-store-sales/test.csv\")"
   ],
   "metadata": {
    "collapsed": false,
    "pycharm": {
     "name": "#%%\n"
    }
   }
  },
  {
   "cell_type": "code",
   "execution_count": 65,
   "outputs": [
    {
     "data": {
      "text/plain": "   Store  DayOfWeek        Date  Sales  Customers  Open  Promo StateHoliday  \\\n0      1          5  2015-07-31   5263        555     1      1            0   \n1      2          5  2015-07-31   6064        625     1      1            0   \n2      3          5  2015-07-31   8314        821     1      1            0   \n3      4          5  2015-07-31  13995       1498     1      1            0   \n4      5          5  2015-07-31   4822        559     1      1            0   \n\n   SchoolHoliday  \n0              1  \n1              1  \n2              1  \n3              1  \n4              1  ",
      "text/html": "<div>\n<style scoped>\n    .dataframe tbody tr th:only-of-type {\n        vertical-align: middle;\n    }\n\n    .dataframe tbody tr th {\n        vertical-align: top;\n    }\n\n    .dataframe thead th {\n        text-align: right;\n    }\n</style>\n<table border=\"1\" class=\"dataframe\">\n  <thead>\n    <tr style=\"text-align: right;\">\n      <th></th>\n      <th>Store</th>\n      <th>DayOfWeek</th>\n      <th>Date</th>\n      <th>Sales</th>\n      <th>Customers</th>\n      <th>Open</th>\n      <th>Promo</th>\n      <th>StateHoliday</th>\n      <th>SchoolHoliday</th>\n    </tr>\n  </thead>\n  <tbody>\n    <tr>\n      <th>0</th>\n      <td>1</td>\n      <td>5</td>\n      <td>2015-07-31</td>\n      <td>5263</td>\n      <td>555</td>\n      <td>1</td>\n      <td>1</td>\n      <td>0</td>\n      <td>1</td>\n    </tr>\n    <tr>\n      <th>1</th>\n      <td>2</td>\n      <td>5</td>\n      <td>2015-07-31</td>\n      <td>6064</td>\n      <td>625</td>\n      <td>1</td>\n      <td>1</td>\n      <td>0</td>\n      <td>1</td>\n    </tr>\n    <tr>\n      <th>2</th>\n      <td>3</td>\n      <td>5</td>\n      <td>2015-07-31</td>\n      <td>8314</td>\n      <td>821</td>\n      <td>1</td>\n      <td>1</td>\n      <td>0</td>\n      <td>1</td>\n    </tr>\n    <tr>\n      <th>3</th>\n      <td>4</td>\n      <td>5</td>\n      <td>2015-07-31</td>\n      <td>13995</td>\n      <td>1498</td>\n      <td>1</td>\n      <td>1</td>\n      <td>0</td>\n      <td>1</td>\n    </tr>\n    <tr>\n      <th>4</th>\n      <td>5</td>\n      <td>5</td>\n      <td>2015-07-31</td>\n      <td>4822</td>\n      <td>559</td>\n      <td>1</td>\n      <td>1</td>\n      <td>0</td>\n      <td>1</td>\n    </tr>\n  </tbody>\n</table>\n</div>"
     },
     "execution_count": 65,
     "metadata": {},
     "output_type": "execute_result"
    }
   ],
   "source": [
    "train_df.head()"
   ],
   "metadata": {
    "collapsed": false,
    "pycharm": {
     "name": "#%%\n"
    }
   }
  },
  {
   "cell_type": "code",
   "execution_count": 66,
   "outputs": [],
   "source": [
    "def process_data(df):\n",
    "    df['StateHoliday'] = df['StateHoliday'].astype(str)\n",
    "    df['Open'] = df['Open'].astype(bool)\n",
    "    df['Date'] = pd.to_datetime(df['Date'])\n",
    "\n",
    "    df['Year'] = df['Date'].dt.year\n",
    "    df['Month'] = df['Date'].dt.month\n",
    "\n",
    "    df = df.rename(columns= lambda x: x.lower())\n",
    "    df = df.rename(\n",
    "                    columns={\n",
    "                        \"dayofweek\": \"day_of_week\",\n",
    "                        \"stateholiday\": \"state_holiday\",\n",
    "                        \"schoolholiday\": \"school_holiday\",\n",
    "                    })\n",
    "\n",
    "    # read store data state\n",
    "    df_store = pd.read_csv(\"../../data/rossmann-store-sales/store.csv\")\n",
    "\n",
    "    # rename columns\n",
    "    df_store = df_store.rename(\n",
    "                                columns={\n",
    "                                    \"Store\": \"store\",\n",
    "                                    \"StoreType\": \"store_type\",\n",
    "                                    \"Assortment\": \"assortment\",\n",
    "                                    \"CompetitionDistance\": \"competition_distance\",\n",
    "                                    \"CompetitionOpenSinceMonth\": \"competition_open_since_month\",\n",
    "                                    \"CompetitionOpenSinceYear\": \"competition_open_since_year\",\n",
    "                                    \"Promo2\": \"promo2\",\n",
    "                                    \"Promo2SinceWeek\": \"promo2_since_week\",\n",
    "                                    \"Promo2SinceYear\": \"promo2_since_year\",\n",
    "                                    \"PromoInterval\": \"promo_interval\",\n",
    "                                })\n",
    "\n",
    "    index = df.index\n",
    "    df = pd.merge(df, df_store,how=\"left\", on='store', indicator=\"_merge\")\n",
    "    df.index = index\n",
    "\n",
    "    # Check that all data has been merged\n",
    "    df['_merge'].eq(\"both\").all()\n",
    "    df = df.drop(columns=['_merge'])\n",
    "    return df"
   ],
   "metadata": {
    "collapsed": false,
    "pycharm": {
     "name": "#%%\n"
    }
   }
  },
  {
   "cell_type": "code",
   "execution_count": 67,
   "outputs": [],
   "source": [
    "train_df = process_data(train_df)\n",
    "test_df = process_data(test_df)"
   ],
   "metadata": {
    "collapsed": false,
    "pycharm": {
     "name": "#%%\n"
    }
   }
  },
  {
   "cell_type": "code",
   "execution_count": 68,
   "outputs": [
    {
     "data": {
      "text/plain": "   store  day_of_week       date  sales  customers  open  promo state_holiday  \\\n0      1            5 2015-07-31   5263        555  True      1             0   \n1      2            5 2015-07-31   6064        625  True      1             0   \n2      3            5 2015-07-31   8314        821  True      1             0   \n3      4            5 2015-07-31  13995       1498  True      1             0   \n4      5            5 2015-07-31   4822        559  True      1             0   \n\n   school_holiday  year  month store_type assortment  competition_distance  \\\n0               1  2015      7          c          a                1270.0   \n1               1  2015      7          a          a                 570.0   \n2               1  2015      7          a          a               14130.0   \n3               1  2015      7          c          c                 620.0   \n4               1  2015      7          a          a               29910.0   \n\n   competition_open_since_month  competition_open_since_year  promo2  \\\n0                           9.0                       2008.0       0   \n1                          11.0                       2007.0       1   \n2                          12.0                       2006.0       1   \n3                           9.0                       2009.0       0   \n4                           4.0                       2015.0       0   \n\n   promo2_since_week  promo2_since_year   promo_interval  \n0                NaN                NaN              NaN  \n1               13.0             2010.0  Jan,Apr,Jul,Oct  \n2               14.0             2011.0  Jan,Apr,Jul,Oct  \n3                NaN                NaN              NaN  \n4                NaN                NaN              NaN  ",
      "text/html": "<div>\n<style scoped>\n    .dataframe tbody tr th:only-of-type {\n        vertical-align: middle;\n    }\n\n    .dataframe tbody tr th {\n        vertical-align: top;\n    }\n\n    .dataframe thead th {\n        text-align: right;\n    }\n</style>\n<table border=\"1\" class=\"dataframe\">\n  <thead>\n    <tr style=\"text-align: right;\">\n      <th></th>\n      <th>store</th>\n      <th>day_of_week</th>\n      <th>date</th>\n      <th>sales</th>\n      <th>customers</th>\n      <th>open</th>\n      <th>promo</th>\n      <th>state_holiday</th>\n      <th>school_holiday</th>\n      <th>year</th>\n      <th>month</th>\n      <th>store_type</th>\n      <th>assortment</th>\n      <th>competition_distance</th>\n      <th>competition_open_since_month</th>\n      <th>competition_open_since_year</th>\n      <th>promo2</th>\n      <th>promo2_since_week</th>\n      <th>promo2_since_year</th>\n      <th>promo_interval</th>\n    </tr>\n  </thead>\n  <tbody>\n    <tr>\n      <th>0</th>\n      <td>1</td>\n      <td>5</td>\n      <td>2015-07-31</td>\n      <td>5263</td>\n      <td>555</td>\n      <td>True</td>\n      <td>1</td>\n      <td>0</td>\n      <td>1</td>\n      <td>2015</td>\n      <td>7</td>\n      <td>c</td>\n      <td>a</td>\n      <td>1270.0</td>\n      <td>9.0</td>\n      <td>2008.0</td>\n      <td>0</td>\n      <td>NaN</td>\n      <td>NaN</td>\n      <td>NaN</td>\n    </tr>\n    <tr>\n      <th>1</th>\n      <td>2</td>\n      <td>5</td>\n      <td>2015-07-31</td>\n      <td>6064</td>\n      <td>625</td>\n      <td>True</td>\n      <td>1</td>\n      <td>0</td>\n      <td>1</td>\n      <td>2015</td>\n      <td>7</td>\n      <td>a</td>\n      <td>a</td>\n      <td>570.0</td>\n      <td>11.0</td>\n      <td>2007.0</td>\n      <td>1</td>\n      <td>13.0</td>\n      <td>2010.0</td>\n      <td>Jan,Apr,Jul,Oct</td>\n    </tr>\n    <tr>\n      <th>2</th>\n      <td>3</td>\n      <td>5</td>\n      <td>2015-07-31</td>\n      <td>8314</td>\n      <td>821</td>\n      <td>True</td>\n      <td>1</td>\n      <td>0</td>\n      <td>1</td>\n      <td>2015</td>\n      <td>7</td>\n      <td>a</td>\n      <td>a</td>\n      <td>14130.0</td>\n      <td>12.0</td>\n      <td>2006.0</td>\n      <td>1</td>\n      <td>14.0</td>\n      <td>2011.0</td>\n      <td>Jan,Apr,Jul,Oct</td>\n    </tr>\n    <tr>\n      <th>3</th>\n      <td>4</td>\n      <td>5</td>\n      <td>2015-07-31</td>\n      <td>13995</td>\n      <td>1498</td>\n      <td>True</td>\n      <td>1</td>\n      <td>0</td>\n      <td>1</td>\n      <td>2015</td>\n      <td>7</td>\n      <td>c</td>\n      <td>c</td>\n      <td>620.0</td>\n      <td>9.0</td>\n      <td>2009.0</td>\n      <td>0</td>\n      <td>NaN</td>\n      <td>NaN</td>\n      <td>NaN</td>\n    </tr>\n    <tr>\n      <th>4</th>\n      <td>5</td>\n      <td>5</td>\n      <td>2015-07-31</td>\n      <td>4822</td>\n      <td>559</td>\n      <td>True</td>\n      <td>1</td>\n      <td>0</td>\n      <td>1</td>\n      <td>2015</td>\n      <td>7</td>\n      <td>a</td>\n      <td>a</td>\n      <td>29910.0</td>\n      <td>4.0</td>\n      <td>2015.0</td>\n      <td>0</td>\n      <td>NaN</td>\n      <td>NaN</td>\n      <td>NaN</td>\n    </tr>\n  </tbody>\n</table>\n</div>"
     },
     "execution_count": 68,
     "metadata": {},
     "output_type": "execute_result"
    }
   ],
   "source": [
    "train_df.head()"
   ],
   "metadata": {
    "collapsed": false,
    "pycharm": {
     "name": "#%%\n"
    }
   }
  },
  {
   "cell_type": "code",
   "execution_count": 69,
   "outputs": [
    {
     "data": {
      "text/plain": "Timestamp('2015-07-31 00:00:00')"
     },
     "execution_count": 69,
     "metadata": {},
     "output_type": "execute_result"
    }
   ],
   "source": [
    "train_df['date'].max()\n"
   ],
   "metadata": {
    "collapsed": false,
    "pycharm": {
     "name": "#%%\n"
    }
   }
  },
  {
   "cell_type": "code",
   "execution_count": 70,
   "outputs": [],
   "source": [
    "validation_window = (pd.to_datetime('2015-07-31'), pd.to_datetime('2015-03-01'))"
   ],
   "metadata": {
    "collapsed": false,
    "pycharm": {
     "name": "#%%\n"
    }
   }
  },
  {
   "cell_type": "code",
   "execution_count": 71,
   "outputs": [],
   "source": [
    "select_train = (train_df['sales'].gt(0) & train_df['date'].le(validation_window[1]))\n",
    "select_val = (train_df['sales'].gt(0) & train_df['date'].le(validation_window[0]) & train_df['date'].gt(validation_window[1]))"
   ],
   "metadata": {
    "collapsed": false,
    "pycharm": {
     "name": "#%%\n"
    }
   }
  },
  {
   "cell_type": "code",
   "execution_count": 72,
   "outputs": [],
   "source": [
    "from sklearn.preprocessing import OrdinalEncoder\n",
    "\n",
    "baseline_features = [\"store\", \"day_of_week\", \"date\", \"year\", \"month\"]\n",
    "\n",
    "o_enc = OrdinalEncoder()\n",
    "for feature in baseline_features:\n",
    "    train_df[feature] = o_enc.fit_transform(train_df[[feature]])"
   ],
   "metadata": {
    "collapsed": false,
    "pycharm": {
     "name": "#%%\n"
    }
   }
  },
  {
   "cell_type": "code",
   "execution_count": 73,
   "outputs": [],
   "source": [
    "# Create baseline model\n",
    "\n",
    "X_train = train_df[select_train][baseline_features]\n",
    "y_train = train_df[select_train]['sales']"
   ],
   "metadata": {
    "collapsed": false,
    "pycharm": {
     "name": "#%%\n"
    }
   }
  },
  {
   "cell_type": "code",
   "execution_count": 74,
   "outputs": [
    {
     "data": {
      "text/plain": "LinearRegression()"
     },
     "execution_count": 74,
     "metadata": {},
     "output_type": "execute_result"
    }
   ],
   "source": [
    "from sklearn.linear_model import LinearRegression\n",
    "from sklearn.preprocessing import StandardScaler\n",
    "\n",
    "sc = StandardScaler()\n",
    "X_scaled = sc.fit_transform(X_train, y_train)\n",
    "l_model = LinearRegression()\n",
    "l_model.fit(X_train, y_train)"
   ],
   "metadata": {
    "collapsed": false,
    "pycharm": {
     "name": "#%%\n"
    }
   }
  },
  {
   "cell_type": "code",
   "execution_count": 75,
   "outputs": [],
   "source": [
    "X_test = train_df[select_val][baseline_features]\n",
    "y_test = train_df[select_val]['sales']\n",
    "y_test_hat = l_model.predict(X_test)"
   ],
   "metadata": {
    "collapsed": false,
    "pycharm": {
     "name": "#%%\n"
    }
   }
  },
  {
   "cell_type": "code",
   "execution_count": 78,
   "outputs": [
    {
     "data": {
      "text/plain": "3048.5742260155366"
     },
     "execution_count": 78,
     "metadata": {},
     "output_type": "execute_result"
    }
   ],
   "source": [
    "from sklearn.metrics import mean_squared_error\n",
    "mean_squared_error(y_test, y_test_hat, squared=False)"
   ],
   "metadata": {
    "collapsed": false,
    "pycharm": {
     "name": "#%%\n"
    }
   }
  },
  {
   "cell_type": "code",
   "execution_count": 79,
   "outputs": [
    {
     "data": {
      "text/plain": "array([ 8.59013665e-02, -3.10291262e+02, -2.02299311e+01,  7.60908017e+03,\n        6.97735792e+02])"
     },
     "execution_count": 79,
     "metadata": {},
     "output_type": "execute_result"
    }
   ],
   "source": [],
   "metadata": {
    "collapsed": false,
    "pycharm": {
     "name": "#%%\n"
    }
   }
  },
  {
   "cell_type": "code",
   "execution_count": null,
   "outputs": [],
   "source": [],
   "metadata": {
    "collapsed": false,
    "pycharm": {
     "name": "#%%\n"
    }
   }
  }
 ],
 "metadata": {
  "kernelspec": {
   "name": "pycharm-e3cb647c",
   "language": "python",
   "display_name": "PyCharm (ml-playground)"
  },
  "language_info": {
   "codemirror_mode": {
    "name": "ipython",
    "version": 2
   },
   "file_extension": ".py",
   "mimetype": "text/x-python",
   "name": "python",
   "nbconvert_exporter": "python",
   "pygments_lexer": "ipython2",
   "version": "2.7.6"
  }
 },
 "nbformat": 4,
 "nbformat_minor": 0
}