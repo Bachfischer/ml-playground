{
 "cells": [
  {
   "cell_type": "code",
   "execution_count": 18,
   "metadata": {
    "collapsed": true
   },
   "outputs": [],
   "source": [
    "import pandas as pd\n",
    "\n",
    "#bitly_df = pd.read_json('../../data/pydata-book/bitly_usagov/example.txt')"
   ]
  },
  {
   "cell_type": "code",
   "execution_count": 19,
   "outputs": [],
   "source": [
    "import json\n",
    "row_list = []\n",
    "with open('../../data/pydata-book/bitly_usagov/example.txt') as example_json:\n",
    "    for row in example_json:\n",
    "        bitly_df_read_in = json.loads(row)\n",
    "        row_list.append(bitly_df_read_in)"
   ],
   "metadata": {
    "collapsed": false,
    "pycharm": {
     "name": "#%%\n"
    }
   }
  },
  {
   "cell_type": "code",
   "execution_count": 20,
   "outputs": [],
   "source": [
    "bitly_df = pd.DataFrame(row_list)"
   ],
   "metadata": {
    "collapsed": false,
    "pycharm": {
     "name": "#%%\n"
    }
   }
  },
  {
   "cell_type": "code",
   "execution_count": 24,
   "outputs": [
    {
     "data": {
      "text/plain": "tz                  \nAmerica/New_York        1251\nUnknown                  521\nAmerica/Chicago          400\nAmerica/Los_Angeles      382\nAmerica/Denver           191\n                        ... \nAsia/Pontianak             1\nAsia/Riyadh                1\nAfrica/Casablanca          1\nAustralia/Queensland       1\nAsia/Manila                1\nLength: 97, dtype: int64"
     },
     "execution_count": 24,
     "metadata": {},
     "output_type": "execute_result"
    }
   ],
   "source": [
    "bitly_df.value_counts(['tz'])"
   ],
   "metadata": {
    "collapsed": false,
    "pycharm": {
     "name": "#%%\n"
    }
   }
  },
  {
   "cell_type": "code",
   "execution_count": 25,
   "outputs": [
    {
     "data": {
      "text/plain": "tz                  \nAmerica/New_York        1251\nUnknown                  521\nAmerica/Chicago          400\nAmerica/Los_Angeles      382\nAmerica/Denver           191\n                        ... \nAsia/Pontianak             1\nAsia/Riyadh                1\nAfrica/Casablanca          1\nAustralia/Queensland       1\nAsia/Manila                1\nLength: 97, dtype: int64"
     },
     "execution_count": 25,
     "metadata": {},
     "output_type": "execute_result"
    }
   ],
   "source": [
    "bitly_df[bitly_df['tz'] == ''] = 'Unknown'\n",
    "bitly_df.value_counts(['tz'])"
   ],
   "metadata": {
    "collapsed": false,
    "pycharm": {
     "name": "#%%\n"
    }
   }
  },
  {
   "cell_type": "code",
   "execution_count": 27,
   "outputs": [],
   "source": [
    "clean_bitly_df = bitly_df[bitly_df['a'].notnull()]"
   ],
   "metadata": {
    "collapsed": false,
    "pycharm": {
     "name": "#%%\n"
    }
   }
  },
  {
   "cell_type": "code",
   "execution_count": 28,
   "outputs": [
    {
     "name": "stderr",
     "output_type": "stream",
     "text": [
      "/var/folders/ks/1h872s1942vgw_3rtffyz84m0000gn/T/ipykernel_32500/2600348027.py:2: SettingWithCopyWarning: \n",
      "A value is trying to be set on a copy of a slice from a DataFrame.\n",
      "Try using .loc[row_indexer,col_indexer] = value instead\n",
      "\n",
      "See the caveats in the documentation: https://pandas.pydata.org/pandas-docs/stable/user_guide/indexing.html#returning-a-view-versus-a-copy\n",
      "  clean_bitly_df['os'] = np.where(clean_bitly_df['a'].str.contains('Windows'), 'Windows', 'Non-Windows')\n"
     ]
    }
   ],
   "source": [
    "import numpy as np\n",
    "clean_bitly_df['os'] = np.where(clean_bitly_df['a'].str.contains('Windows'), 'Windows', 'Non-Windows')"
   ],
   "metadata": {
    "collapsed": false,
    "pycharm": {
     "name": "#%%\n"
    }
   }
  },
  {
   "cell_type": "code",
   "execution_count": 29,
   "outputs": [
    {
     "data": {
      "text/plain": "0        Windows\n1    Non-Windows\n2        Windows\n3    Non-Windows\n4        Windows\nName: os, dtype: object"
     },
     "execution_count": 29,
     "metadata": {},
     "output_type": "execute_result"
    }
   ],
   "source": [
    "clean_bitly_df['os'].head()"
   ],
   "metadata": {
    "collapsed": false,
    "pycharm": {
     "name": "#%%\n"
    }
   }
  },
  {
   "cell_type": "code",
   "execution_count": 62,
   "outputs": [],
   "source": [
    "group_by_os_and_timezone = clean_bitly_df.groupby(by = ['os', 'tz'])"
   ],
   "metadata": {
    "collapsed": false,
    "pycharm": {
     "name": "#%%\n"
    }
   }
  },
  {
   "cell_type": "code",
   "execution_count": 57,
   "outputs": [
    {
     "data": {
      "text/plain": "os           tz                 \nWindows      America/New_York       912\nNon-Windows  Unknown                521\n             America/New_York       339\nWindows      America/Chicago        285\n             America/Los_Angeles    252\nNon-Windows  America/Denver         132\n             America/Los_Angeles    130\n             America/Chicago        115\nWindows      America/Denver          59\n             Pacific/Honolulu        36\nName: tz, dtype: int64"
     },
     "execution_count": 57,
     "metadata": {},
     "output_type": "execute_result"
    }
   ],
   "source": [
    "group_by_os_and_timezone['tz'].count().sort_values(ascending=False).groupby('os').head()"
   ],
   "metadata": {
    "collapsed": false,
    "pycharm": {
     "name": "#%%\n"
    }
   }
  },
  {
   "cell_type": "code",
   "execution_count": 75,
   "outputs": [
    {
     "data": {
      "text/plain": "os           tz                            \nNon-Windows  America/Anchorage                   4\n             America/Argentina/Buenos_Aires      1\n             America/Bogota                      1\n             America/Chicago                   115\n             America/Chihuahua                   1\n                                              ... \nWindows      Europe/Vilnius                      2\n             Europe/Volgograd                    1\n             Europe/Warsaw                      15\n             Pacific/Auckland                    8\n             Pacific/Honolulu                   36\nLength: 148, dtype: int64"
     },
     "execution_count": 75,
     "metadata": {},
     "output_type": "execute_result"
    }
   ],
   "source": [
    "group_by_os_and_timezone.size()\n"
   ],
   "metadata": {
    "collapsed": false,
    "pycharm": {
     "name": "#%%\n"
    }
   }
  },
  {
   "cell_type": "code",
   "execution_count": null,
   "outputs": [],
   "source": [],
   "metadata": {
    "collapsed": false,
    "pycharm": {
     "name": "#%%\n"
    }
   }
  }
 ],
 "metadata": {
  "kernelspec": {
   "name": "pycharm-e3cb647c",
   "language": "python",
   "display_name": "PyCharm (ml-playground)"
  },
  "language_info": {
   "codemirror_mode": {
    "name": "ipython",
    "version": 2
   },
   "file_extension": ".py",
   "mimetype": "text/x-python",
   "name": "python",
   "nbconvert_exporter": "python",
   "pygments_lexer": "ipython2",
   "version": "2.7.6"
  }
 },
 "nbformat": 4,
 "nbformat_minor": 0
}